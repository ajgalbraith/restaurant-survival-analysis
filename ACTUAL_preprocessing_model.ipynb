{
 "nbformat": 4,
 "nbformat_minor": 0,
 "metadata": {
  "colab": {
   "provenance": [],
   "machine_shape": "hm",
   "gpuType": "T4"
  },
  "kernelspec": {
   "name": "python3",
   "language": "python",
   "display_name": "Python 3 (ipykernel)"
  },
  "language_info": {
   "name": "python"
  },
  "accelerator": "GPU"
 },
 "cells": [
  {
   "cell_type": "code",
   "source": [
    "import numpy as np\n",
    "import matplotlib.pyplot as plt\n",
    "import pandas as pd\n",
    "import sklearn as sk\n",
    "import seaborn as sns\n",
    "import os"
   ],
   "metadata": {
    "id": "tnFANIvho9An",
    "ExecuteTime": {
     "end_time": "2023-08-07T17:56:56.224019Z",
     "start_time": "2023-08-07T17:56:56.136650Z"
    }
   },
   "execution_count": 1,
   "outputs": []
  },
  {
   "cell_type": "code",
   "source": [
    "### CHANGE THIS TO WHERE DATA IS STORED\n",
    "path = '../data/yelp_dataset/'"
   ],
   "metadata": {
    "id": "JjKxWdYxo9bT",
    "ExecuteTime": {
     "end_time": "2023-08-07T17:56:58.671910Z",
     "start_time": "2023-08-07T17:56:58.667576Z"
    }
   },
   "execution_count": 2,
   "outputs": []
  },
  {
   "cell_type": "markdown",
   "source": [
    "### Preprocessing of restaurants features"
   ],
   "metadata": {
    "id": "SuoiEeEs6FuS"
   }
  },
  {
   "cell_type": "code",
   "source": [
    "business = pd.read_json(path+'yelp_academic_dataset_business.json', lines=True)\n",
    "business = business[business['categories'].notna()]\n",
    "\n",
    "searchfor = ['food', 'restaurant','dessert']\n",
    "restaurants = business[business['categories'].str.contains('|'.join(searchfor),case=False)]\n",
    "\n",
    "pop_res = restaurants[restaurants['review_count'] >= 50]\n",
    "pop_res.reset_index(drop=True,inplace=True)\n",
    "pop_res"
   ],
   "metadata": {
    "id": "KIYQDO1F6ZQ6",
    "ExecuteTime": {
     "end_time": "2023-08-07T17:57:04.666409Z",
     "start_time": "2023-08-07T17:57:02.041563Z"
    }
   },
   "execution_count": 3,
   "outputs": [
    {
     "data": {
      "text/plain": "                  business_id                           name  \\\n0      MTSW4McQd7CbVtyjqoe9mw             St Honore Pastries   \n1      0bPLkL0QhhPO5kt1_EXmNQ           Zio's Italian Market   \n2      MUTTqe8uqyMdBl186RmNeA                       Tuna Bar   \n3      ROeacJQwBeh05Rqg7F6TCg                            BAP   \n4      9OG5YkX1g2GReZM0AskizA        Romano's Macaroni Grill   \n...                       ...                            ...   \n22438  -R9t30RvsG-Rtiq63yuEmg  Crescent No Lawyers Bar-Grill   \n22439  wVxXRFf10zTTAs11nr4xeA                   PrimoHoagies   \n22440  WXNag-tmudrFHFlfNLogWg             Whole Foods Market   \n22441  2MAQeAqmD8enCT2ZYqUgIQ    The Melting Pot - Nashville   \n22442  w_4xUt-1AyY2ZwKtnjW0Xg           Bittercreek Alehouse   \n\n                    address          city state postal_code   latitude  \\\n0               935 Race St  Philadelphia    PA       19107  39.955505   \n1             2575 E Bay Dr         Largo    FL       33771  27.916116   \n2               205 Race St  Philadelphia    PA       19106  39.953949   \n3             1224 South St  Philadelphia    PA       19147  39.943223   \n4        5505 S Virginia St          Reno    NV       89502  39.476117   \n...                     ...           ...   ...         ...        ...   \n22438    5500 W Franklin Rd         Boise    ID       83706  43.603368   \n22439        6024 Ridge Ave  Philadelphia    PA       19128  40.032483   \n22440      4577 W Pine Blvd     St. Louis    MO       63108  38.641988   \n22441  166 2nd Ave N, Ste A     Nashville    TN       37201  36.163875   \n22442          246 N 8th St         Boise    ID       83702  43.616590   \n\n        longitude  stars  review_count  is_open  \\\n0      -75.155564    4.0            80        1   \n1      -82.760461    4.5           100        0   \n2      -75.143226    4.0           245        1   \n3      -75.162568    4.5           205        1   \n4     -119.789339    2.5           339        1   \n...           ...    ...           ...      ...   \n22438 -116.250063    2.5            55        0   \n22439  -75.214430    3.0            55        1   \n22440  -90.261655    4.0            71        1   \n22441  -86.776311    4.0           204        0   \n22442 -116.202383    4.5           998        1   \n\n                                              attributes  \\\n0      {'RestaurantsDelivery': 'False', 'OutdoorSeati...   \n1      {'OutdoorSeating': 'False', 'RestaurantsGoodFo...   \n2      {'RestaurantsReservations': 'True', 'Restauran...   \n3      {'NoiseLevel': 'u'quiet'', 'GoodForMeal': '{'d...   \n4      {'RestaurantsGoodForGroups': 'True', 'Restaura...   \n...                                                  ...   \n22438  {'RestaurantsPriceRange2': '2', 'BikeParking':...   \n22439  {'NoiseLevel': 'u'average'', 'RestaurantsTakeO...   \n22440  {'RestaurantsPriceRange2': '3', 'DogsAllowed':...   \n22441  {'RestaurantsDelivery': 'False', 'RestaurantsR...   \n22442  {'BikeParking': 'True', 'Alcohol': 'u'full_bar...   \n\n                                              categories  \\\n0      Restaurants, Food, Bubble Tea, Coffee & Tea, B...   \n1            Food, Delis, Italian, Bakeries, Restaurants   \n2                      Sushi Bars, Restaurants, Japanese   \n3                                    Korean, Restaurants   \n4                                   Restaurants, Italian   \n...                                                  ...   \n22438  American (Traditional), Nightlife, Bars, Resta...   \n22439  Restaurants, Specialty Food, Food, Sandwiches,...   \n22440      Health Markets, Specialty Food, Food, Grocery   \n22441    Fondue, Beer, Wine & Spirits, Food, Restaurants   \n22442  Bars, Gastropubs, Sandwiches, Nightlife, Resta...   \n\n                                                   hours  \n0      {'Monday': '7:0-20:0', 'Tuesday': '7:0-20:0', ...  \n1      {'Monday': '10:0-18:0', 'Tuesday': '10:0-20:0'...  \n2      {'Tuesday': '13:30-22:0', 'Wednesday': '13:30-...  \n3      {'Monday': '11:30-20:30', 'Tuesday': '11:30-20...  \n4      {'Monday': '11:0-22:0', 'Tuesday': '11:0-22:0'...  \n...                                                  ...  \n22438  {'Monday': '11:0-2:0', 'Tuesday': '11:0-2:0', ...  \n22439  {'Monday': '10:0-21:0', 'Tuesday': '10:0-21:0'...  \n22440  {'Monday': '0:0-0:0', 'Tuesday': '7:0-22:0', '...  \n22441  {'Monday': '0:0-0:0', 'Tuesday': '16:0-21:0', ...  \n22442  {'Monday': '0:0-0:0', 'Tuesday': '11:0-22:0', ...  \n\n[22443 rows x 14 columns]",
      "text/html": "<div>\n<style scoped>\n    .dataframe tbody tr th:only-of-type {\n        vertical-align: middle;\n    }\n\n    .dataframe tbody tr th {\n        vertical-align: top;\n    }\n\n    .dataframe thead th {\n        text-align: right;\n    }\n</style>\n<table border=\"1\" class=\"dataframe\">\n  <thead>\n    <tr style=\"text-align: right;\">\n      <th></th>\n      <th>business_id</th>\n      <th>name</th>\n      <th>address</th>\n      <th>city</th>\n      <th>state</th>\n      <th>postal_code</th>\n      <th>latitude</th>\n      <th>longitude</th>\n      <th>stars</th>\n      <th>review_count</th>\n      <th>is_open</th>\n      <th>attributes</th>\n      <th>categories</th>\n      <th>hours</th>\n    </tr>\n  </thead>\n  <tbody>\n    <tr>\n      <th>0</th>\n      <td>MTSW4McQd7CbVtyjqoe9mw</td>\n      <td>St Honore Pastries</td>\n      <td>935 Race St</td>\n      <td>Philadelphia</td>\n      <td>PA</td>\n      <td>19107</td>\n      <td>39.955505</td>\n      <td>-75.155564</td>\n      <td>4.0</td>\n      <td>80</td>\n      <td>1</td>\n      <td>{'RestaurantsDelivery': 'False', 'OutdoorSeati...</td>\n      <td>Restaurants, Food, Bubble Tea, Coffee &amp; Tea, B...</td>\n      <td>{'Monday': '7:0-20:0', 'Tuesday': '7:0-20:0', ...</td>\n    </tr>\n    <tr>\n      <th>1</th>\n      <td>0bPLkL0QhhPO5kt1_EXmNQ</td>\n      <td>Zio's Italian Market</td>\n      <td>2575 E Bay Dr</td>\n      <td>Largo</td>\n      <td>FL</td>\n      <td>33771</td>\n      <td>27.916116</td>\n      <td>-82.760461</td>\n      <td>4.5</td>\n      <td>100</td>\n      <td>0</td>\n      <td>{'OutdoorSeating': 'False', 'RestaurantsGoodFo...</td>\n      <td>Food, Delis, Italian, Bakeries, Restaurants</td>\n      <td>{'Monday': '10:0-18:0', 'Tuesday': '10:0-20:0'...</td>\n    </tr>\n    <tr>\n      <th>2</th>\n      <td>MUTTqe8uqyMdBl186RmNeA</td>\n      <td>Tuna Bar</td>\n      <td>205 Race St</td>\n      <td>Philadelphia</td>\n      <td>PA</td>\n      <td>19106</td>\n      <td>39.953949</td>\n      <td>-75.143226</td>\n      <td>4.0</td>\n      <td>245</td>\n      <td>1</td>\n      <td>{'RestaurantsReservations': 'True', 'Restauran...</td>\n      <td>Sushi Bars, Restaurants, Japanese</td>\n      <td>{'Tuesday': '13:30-22:0', 'Wednesday': '13:30-...</td>\n    </tr>\n    <tr>\n      <th>3</th>\n      <td>ROeacJQwBeh05Rqg7F6TCg</td>\n      <td>BAP</td>\n      <td>1224 South St</td>\n      <td>Philadelphia</td>\n      <td>PA</td>\n      <td>19147</td>\n      <td>39.943223</td>\n      <td>-75.162568</td>\n      <td>4.5</td>\n      <td>205</td>\n      <td>1</td>\n      <td>{'NoiseLevel': 'u'quiet'', 'GoodForMeal': '{'d...</td>\n      <td>Korean, Restaurants</td>\n      <td>{'Monday': '11:30-20:30', 'Tuesday': '11:30-20...</td>\n    </tr>\n    <tr>\n      <th>4</th>\n      <td>9OG5YkX1g2GReZM0AskizA</td>\n      <td>Romano's Macaroni Grill</td>\n      <td>5505 S Virginia St</td>\n      <td>Reno</td>\n      <td>NV</td>\n      <td>89502</td>\n      <td>39.476117</td>\n      <td>-119.789339</td>\n      <td>2.5</td>\n      <td>339</td>\n      <td>1</td>\n      <td>{'RestaurantsGoodForGroups': 'True', 'Restaura...</td>\n      <td>Restaurants, Italian</td>\n      <td>{'Monday': '11:0-22:0', 'Tuesday': '11:0-22:0'...</td>\n    </tr>\n    <tr>\n      <th>...</th>\n      <td>...</td>\n      <td>...</td>\n      <td>...</td>\n      <td>...</td>\n      <td>...</td>\n      <td>...</td>\n      <td>...</td>\n      <td>...</td>\n      <td>...</td>\n      <td>...</td>\n      <td>...</td>\n      <td>...</td>\n      <td>...</td>\n      <td>...</td>\n    </tr>\n    <tr>\n      <th>22438</th>\n      <td>-R9t30RvsG-Rtiq63yuEmg</td>\n      <td>Crescent No Lawyers Bar-Grill</td>\n      <td>5500 W Franklin Rd</td>\n      <td>Boise</td>\n      <td>ID</td>\n      <td>83706</td>\n      <td>43.603368</td>\n      <td>-116.250063</td>\n      <td>2.5</td>\n      <td>55</td>\n      <td>0</td>\n      <td>{'RestaurantsPriceRange2': '2', 'BikeParking':...</td>\n      <td>American (Traditional), Nightlife, Bars, Resta...</td>\n      <td>{'Monday': '11:0-2:0', 'Tuesday': '11:0-2:0', ...</td>\n    </tr>\n    <tr>\n      <th>22439</th>\n      <td>wVxXRFf10zTTAs11nr4xeA</td>\n      <td>PrimoHoagies</td>\n      <td>6024 Ridge Ave</td>\n      <td>Philadelphia</td>\n      <td>PA</td>\n      <td>19128</td>\n      <td>40.032483</td>\n      <td>-75.214430</td>\n      <td>3.0</td>\n      <td>55</td>\n      <td>1</td>\n      <td>{'NoiseLevel': 'u'average'', 'RestaurantsTakeO...</td>\n      <td>Restaurants, Specialty Food, Food, Sandwiches,...</td>\n      <td>{'Monday': '10:0-21:0', 'Tuesday': '10:0-21:0'...</td>\n    </tr>\n    <tr>\n      <th>22440</th>\n      <td>WXNag-tmudrFHFlfNLogWg</td>\n      <td>Whole Foods Market</td>\n      <td>4577 W Pine Blvd</td>\n      <td>St. Louis</td>\n      <td>MO</td>\n      <td>63108</td>\n      <td>38.641988</td>\n      <td>-90.261655</td>\n      <td>4.0</td>\n      <td>71</td>\n      <td>1</td>\n      <td>{'RestaurantsPriceRange2': '3', 'DogsAllowed':...</td>\n      <td>Health Markets, Specialty Food, Food, Grocery</td>\n      <td>{'Monday': '0:0-0:0', 'Tuesday': '7:0-22:0', '...</td>\n    </tr>\n    <tr>\n      <th>22441</th>\n      <td>2MAQeAqmD8enCT2ZYqUgIQ</td>\n      <td>The Melting Pot - Nashville</td>\n      <td>166 2nd Ave N, Ste A</td>\n      <td>Nashville</td>\n      <td>TN</td>\n      <td>37201</td>\n      <td>36.163875</td>\n      <td>-86.776311</td>\n      <td>4.0</td>\n      <td>204</td>\n      <td>0</td>\n      <td>{'RestaurantsDelivery': 'False', 'RestaurantsR...</td>\n      <td>Fondue, Beer, Wine &amp; Spirits, Food, Restaurants</td>\n      <td>{'Monday': '0:0-0:0', 'Tuesday': '16:0-21:0', ...</td>\n    </tr>\n    <tr>\n      <th>22442</th>\n      <td>w_4xUt-1AyY2ZwKtnjW0Xg</td>\n      <td>Bittercreek Alehouse</td>\n      <td>246 N 8th St</td>\n      <td>Boise</td>\n      <td>ID</td>\n      <td>83702</td>\n      <td>43.616590</td>\n      <td>-116.202383</td>\n      <td>4.5</td>\n      <td>998</td>\n      <td>1</td>\n      <td>{'BikeParking': 'True', 'Alcohol': 'u'full_bar...</td>\n      <td>Bars, Gastropubs, Sandwiches, Nightlife, Resta...</td>\n      <td>{'Monday': '0:0-0:0', 'Tuesday': '11:0-22:0', ...</td>\n    </tr>\n  </tbody>\n</table>\n<p>22443 rows × 14 columns</p>\n</div>"
     },
     "execution_count": 3,
     "metadata": {},
     "output_type": "execute_result"
    }
   ]
  },
  {
   "cell_type": "code",
   "source": [
    "filter_null_res = pop_res[ pop_res['attributes'].notnull() ]\n",
    "filter_null_res"
   ],
   "metadata": {
    "id": "UjeAoEju6cN-",
    "ExecuteTime": {
     "end_time": "2023-08-07T17:57:21.798190Z",
     "start_time": "2023-08-07T17:57:21.776913Z"
    }
   },
   "execution_count": 4,
   "outputs": [
    {
     "data": {
      "text/plain": "                  business_id                           name  \\\n0      MTSW4McQd7CbVtyjqoe9mw             St Honore Pastries   \n1      0bPLkL0QhhPO5kt1_EXmNQ           Zio's Italian Market   \n2      MUTTqe8uqyMdBl186RmNeA                       Tuna Bar   \n3      ROeacJQwBeh05Rqg7F6TCg                            BAP   \n4      9OG5YkX1g2GReZM0AskizA        Romano's Macaroni Grill   \n...                       ...                            ...   \n22438  -R9t30RvsG-Rtiq63yuEmg  Crescent No Lawyers Bar-Grill   \n22439  wVxXRFf10zTTAs11nr4xeA                   PrimoHoagies   \n22440  WXNag-tmudrFHFlfNLogWg             Whole Foods Market   \n22441  2MAQeAqmD8enCT2ZYqUgIQ    The Melting Pot - Nashville   \n22442  w_4xUt-1AyY2ZwKtnjW0Xg           Bittercreek Alehouse   \n\n                    address          city state postal_code   latitude  \\\n0               935 Race St  Philadelphia    PA       19107  39.955505   \n1             2575 E Bay Dr         Largo    FL       33771  27.916116   \n2               205 Race St  Philadelphia    PA       19106  39.953949   \n3             1224 South St  Philadelphia    PA       19147  39.943223   \n4        5505 S Virginia St          Reno    NV       89502  39.476117   \n...                     ...           ...   ...         ...        ...   \n22438    5500 W Franklin Rd         Boise    ID       83706  43.603368   \n22439        6024 Ridge Ave  Philadelphia    PA       19128  40.032483   \n22440      4577 W Pine Blvd     St. Louis    MO       63108  38.641988   \n22441  166 2nd Ave N, Ste A     Nashville    TN       37201  36.163875   \n22442          246 N 8th St         Boise    ID       83702  43.616590   \n\n        longitude  stars  review_count  is_open  \\\n0      -75.155564    4.0            80        1   \n1      -82.760461    4.5           100        0   \n2      -75.143226    4.0           245        1   \n3      -75.162568    4.5           205        1   \n4     -119.789339    2.5           339        1   \n...           ...    ...           ...      ...   \n22438 -116.250063    2.5            55        0   \n22439  -75.214430    3.0            55        1   \n22440  -90.261655    4.0            71        1   \n22441  -86.776311    4.0           204        0   \n22442 -116.202383    4.5           998        1   \n\n                                              attributes  \\\n0      {'RestaurantsDelivery': 'False', 'OutdoorSeati...   \n1      {'OutdoorSeating': 'False', 'RestaurantsGoodFo...   \n2      {'RestaurantsReservations': 'True', 'Restauran...   \n3      {'NoiseLevel': 'u'quiet'', 'GoodForMeal': '{'d...   \n4      {'RestaurantsGoodForGroups': 'True', 'Restaura...   \n...                                                  ...   \n22438  {'RestaurantsPriceRange2': '2', 'BikeParking':...   \n22439  {'NoiseLevel': 'u'average'', 'RestaurantsTakeO...   \n22440  {'RestaurantsPriceRange2': '3', 'DogsAllowed':...   \n22441  {'RestaurantsDelivery': 'False', 'RestaurantsR...   \n22442  {'BikeParking': 'True', 'Alcohol': 'u'full_bar...   \n\n                                              categories  \\\n0      Restaurants, Food, Bubble Tea, Coffee & Tea, B...   \n1            Food, Delis, Italian, Bakeries, Restaurants   \n2                      Sushi Bars, Restaurants, Japanese   \n3                                    Korean, Restaurants   \n4                                   Restaurants, Italian   \n...                                                  ...   \n22438  American (Traditional), Nightlife, Bars, Resta...   \n22439  Restaurants, Specialty Food, Food, Sandwiches,...   \n22440      Health Markets, Specialty Food, Food, Grocery   \n22441    Fondue, Beer, Wine & Spirits, Food, Restaurants   \n22442  Bars, Gastropubs, Sandwiches, Nightlife, Resta...   \n\n                                                   hours  \n0      {'Monday': '7:0-20:0', 'Tuesday': '7:0-20:0', ...  \n1      {'Monday': '10:0-18:0', 'Tuesday': '10:0-20:0'...  \n2      {'Tuesday': '13:30-22:0', 'Wednesday': '13:30-...  \n3      {'Monday': '11:30-20:30', 'Tuesday': '11:30-20...  \n4      {'Monday': '11:0-22:0', 'Tuesday': '11:0-22:0'...  \n...                                                  ...  \n22438  {'Monday': '11:0-2:0', 'Tuesday': '11:0-2:0', ...  \n22439  {'Monday': '10:0-21:0', 'Tuesday': '10:0-21:0'...  \n22440  {'Monday': '0:0-0:0', 'Tuesday': '7:0-22:0', '...  \n22441  {'Monday': '0:0-0:0', 'Tuesday': '16:0-21:0', ...  \n22442  {'Monday': '0:0-0:0', 'Tuesday': '11:0-22:0', ...  \n\n[22434 rows x 14 columns]",
      "text/html": "<div>\n<style scoped>\n    .dataframe tbody tr th:only-of-type {\n        vertical-align: middle;\n    }\n\n    .dataframe tbody tr th {\n        vertical-align: top;\n    }\n\n    .dataframe thead th {\n        text-align: right;\n    }\n</style>\n<table border=\"1\" class=\"dataframe\">\n  <thead>\n    <tr style=\"text-align: right;\">\n      <th></th>\n      <th>business_id</th>\n      <th>name</th>\n      <th>address</th>\n      <th>city</th>\n      <th>state</th>\n      <th>postal_code</th>\n      <th>latitude</th>\n      <th>longitude</th>\n      <th>stars</th>\n      <th>review_count</th>\n      <th>is_open</th>\n      <th>attributes</th>\n      <th>categories</th>\n      <th>hours</th>\n    </tr>\n  </thead>\n  <tbody>\n    <tr>\n      <th>0</th>\n      <td>MTSW4McQd7CbVtyjqoe9mw</td>\n      <td>St Honore Pastries</td>\n      <td>935 Race St</td>\n      <td>Philadelphia</td>\n      <td>PA</td>\n      <td>19107</td>\n      <td>39.955505</td>\n      <td>-75.155564</td>\n      <td>4.0</td>\n      <td>80</td>\n      <td>1</td>\n      <td>{'RestaurantsDelivery': 'False', 'OutdoorSeati...</td>\n      <td>Restaurants, Food, Bubble Tea, Coffee &amp; Tea, B...</td>\n      <td>{'Monday': '7:0-20:0', 'Tuesday': '7:0-20:0', ...</td>\n    </tr>\n    <tr>\n      <th>1</th>\n      <td>0bPLkL0QhhPO5kt1_EXmNQ</td>\n      <td>Zio's Italian Market</td>\n      <td>2575 E Bay Dr</td>\n      <td>Largo</td>\n      <td>FL</td>\n      <td>33771</td>\n      <td>27.916116</td>\n      <td>-82.760461</td>\n      <td>4.5</td>\n      <td>100</td>\n      <td>0</td>\n      <td>{'OutdoorSeating': 'False', 'RestaurantsGoodFo...</td>\n      <td>Food, Delis, Italian, Bakeries, Restaurants</td>\n      <td>{'Monday': '10:0-18:0', 'Tuesday': '10:0-20:0'...</td>\n    </tr>\n    <tr>\n      <th>2</th>\n      <td>MUTTqe8uqyMdBl186RmNeA</td>\n      <td>Tuna Bar</td>\n      <td>205 Race St</td>\n      <td>Philadelphia</td>\n      <td>PA</td>\n      <td>19106</td>\n      <td>39.953949</td>\n      <td>-75.143226</td>\n      <td>4.0</td>\n      <td>245</td>\n      <td>1</td>\n      <td>{'RestaurantsReservations': 'True', 'Restauran...</td>\n      <td>Sushi Bars, Restaurants, Japanese</td>\n      <td>{'Tuesday': '13:30-22:0', 'Wednesday': '13:30-...</td>\n    </tr>\n    <tr>\n      <th>3</th>\n      <td>ROeacJQwBeh05Rqg7F6TCg</td>\n      <td>BAP</td>\n      <td>1224 South St</td>\n      <td>Philadelphia</td>\n      <td>PA</td>\n      <td>19147</td>\n      <td>39.943223</td>\n      <td>-75.162568</td>\n      <td>4.5</td>\n      <td>205</td>\n      <td>1</td>\n      <td>{'NoiseLevel': 'u'quiet'', 'GoodForMeal': '{'d...</td>\n      <td>Korean, Restaurants</td>\n      <td>{'Monday': '11:30-20:30', 'Tuesday': '11:30-20...</td>\n    </tr>\n    <tr>\n      <th>4</th>\n      <td>9OG5YkX1g2GReZM0AskizA</td>\n      <td>Romano's Macaroni Grill</td>\n      <td>5505 S Virginia St</td>\n      <td>Reno</td>\n      <td>NV</td>\n      <td>89502</td>\n      <td>39.476117</td>\n      <td>-119.789339</td>\n      <td>2.5</td>\n      <td>339</td>\n      <td>1</td>\n      <td>{'RestaurantsGoodForGroups': 'True', 'Restaura...</td>\n      <td>Restaurants, Italian</td>\n      <td>{'Monday': '11:0-22:0', 'Tuesday': '11:0-22:0'...</td>\n    </tr>\n    <tr>\n      <th>...</th>\n      <td>...</td>\n      <td>...</td>\n      <td>...</td>\n      <td>...</td>\n      <td>...</td>\n      <td>...</td>\n      <td>...</td>\n      <td>...</td>\n      <td>...</td>\n      <td>...</td>\n      <td>...</td>\n      <td>...</td>\n      <td>...</td>\n      <td>...</td>\n    </tr>\n    <tr>\n      <th>22438</th>\n      <td>-R9t30RvsG-Rtiq63yuEmg</td>\n      <td>Crescent No Lawyers Bar-Grill</td>\n      <td>5500 W Franklin Rd</td>\n      <td>Boise</td>\n      <td>ID</td>\n      <td>83706</td>\n      <td>43.603368</td>\n      <td>-116.250063</td>\n      <td>2.5</td>\n      <td>55</td>\n      <td>0</td>\n      <td>{'RestaurantsPriceRange2': '2', 'BikeParking':...</td>\n      <td>American (Traditional), Nightlife, Bars, Resta...</td>\n      <td>{'Monday': '11:0-2:0', 'Tuesday': '11:0-2:0', ...</td>\n    </tr>\n    <tr>\n      <th>22439</th>\n      <td>wVxXRFf10zTTAs11nr4xeA</td>\n      <td>PrimoHoagies</td>\n      <td>6024 Ridge Ave</td>\n      <td>Philadelphia</td>\n      <td>PA</td>\n      <td>19128</td>\n      <td>40.032483</td>\n      <td>-75.214430</td>\n      <td>3.0</td>\n      <td>55</td>\n      <td>1</td>\n      <td>{'NoiseLevel': 'u'average'', 'RestaurantsTakeO...</td>\n      <td>Restaurants, Specialty Food, Food, Sandwiches,...</td>\n      <td>{'Monday': '10:0-21:0', 'Tuesday': '10:0-21:0'...</td>\n    </tr>\n    <tr>\n      <th>22440</th>\n      <td>WXNag-tmudrFHFlfNLogWg</td>\n      <td>Whole Foods Market</td>\n      <td>4577 W Pine Blvd</td>\n      <td>St. Louis</td>\n      <td>MO</td>\n      <td>63108</td>\n      <td>38.641988</td>\n      <td>-90.261655</td>\n      <td>4.0</td>\n      <td>71</td>\n      <td>1</td>\n      <td>{'RestaurantsPriceRange2': '3', 'DogsAllowed':...</td>\n      <td>Health Markets, Specialty Food, Food, Grocery</td>\n      <td>{'Monday': '0:0-0:0', 'Tuesday': '7:0-22:0', '...</td>\n    </tr>\n    <tr>\n      <th>22441</th>\n      <td>2MAQeAqmD8enCT2ZYqUgIQ</td>\n      <td>The Melting Pot - Nashville</td>\n      <td>166 2nd Ave N, Ste A</td>\n      <td>Nashville</td>\n      <td>TN</td>\n      <td>37201</td>\n      <td>36.163875</td>\n      <td>-86.776311</td>\n      <td>4.0</td>\n      <td>204</td>\n      <td>0</td>\n      <td>{'RestaurantsDelivery': 'False', 'RestaurantsR...</td>\n      <td>Fondue, Beer, Wine &amp; Spirits, Food, Restaurants</td>\n      <td>{'Monday': '0:0-0:0', 'Tuesday': '16:0-21:0', ...</td>\n    </tr>\n    <tr>\n      <th>22442</th>\n      <td>w_4xUt-1AyY2ZwKtnjW0Xg</td>\n      <td>Bittercreek Alehouse</td>\n      <td>246 N 8th St</td>\n      <td>Boise</td>\n      <td>ID</td>\n      <td>83702</td>\n      <td>43.616590</td>\n      <td>-116.202383</td>\n      <td>4.5</td>\n      <td>998</td>\n      <td>1</td>\n      <td>{'BikeParking': 'True', 'Alcohol': 'u'full_bar...</td>\n      <td>Bars, Gastropubs, Sandwiches, Nightlife, Resta...</td>\n      <td>{'Monday': '0:0-0:0', 'Tuesday': '11:0-22:0', ...</td>\n    </tr>\n  </tbody>\n</table>\n<p>22434 rows × 14 columns</p>\n</div>"
     },
     "execution_count": 4,
     "metadata": {},
     "output_type": "execute_result"
    }
   ]
  },
  {
   "cell_type": "code",
   "source": [
    "rows = list(filter_null_res.index)"
   ],
   "metadata": {
    "id": "1r8AIvAY6il4",
    "ExecuteTime": {
     "end_time": "2023-08-07T17:57:22.753584Z",
     "start_time": "2023-08-07T17:57:22.749565Z"
    }
   },
   "execution_count": 5,
   "outputs": []
  },
  {
   "cell_type": "code",
   "source": [
    "pop_res = pd.DataFrame(filter_null_res)\n",
    "pop_res.index"
   ],
   "metadata": {
    "id": "8lRh0orJ6srb",
    "ExecuteTime": {
     "end_time": "2023-08-07T17:57:23.497289Z",
     "start_time": "2023-08-07T17:57:23.493938Z"
    }
   },
   "execution_count": 6,
   "outputs": [
    {
     "data": {
      "text/plain": "Int64Index([    0,     1,     2,     3,     4,     5,     6,     7,     8,\n                9,\n            ...\n            22433, 22434, 22435, 22436, 22437, 22438, 22439, 22440, 22441,\n            22442],\n           dtype='int64', length=22434)"
     },
     "execution_count": 6,
     "metadata": {},
     "output_type": "execute_result"
    }
   ]
  },
  {
   "cell_type": "code",
   "execution_count": 16,
   "outputs": [
    {
     "name": "stdout",
     "output_type": "stream",
     "text": [
      "<class 'pandas.core.frame.DataFrame'>\n",
      "Int64Index: 22434 entries, 0 to 22442\n",
      "Data columns (total 14 columns):\n",
      " #   Column        Non-Null Count  Dtype  \n",
      "---  ------        --------------  -----  \n",
      " 0   business_id   22434 non-null  object \n",
      " 1   name          22434 non-null  object \n",
      " 2   address       22434 non-null  object \n",
      " 3   city          22434 non-null  object \n",
      " 4   state         22434 non-null  object \n",
      " 5   postal_code   22434 non-null  object \n",
      " 6   latitude      22434 non-null  float64\n",
      " 7   longitude     22434 non-null  float64\n",
      " 8   stars         22434 non-null  float64\n",
      " 9   review_count  22434 non-null  int64  \n",
      " 10  is_open       22434 non-null  int64  \n",
      " 11  attributes    22434 non-null  object \n",
      " 12  categories    22434 non-null  object \n",
      " 13  hours         21774 non-null  object \n",
      "dtypes: float64(3), int64(2), object(9)\n",
      "memory usage: 3.1+ MB\n"
     ]
    },
    {
     "data": {
      "text/plain": "['RestaurantsTakeOut',\n 'RestaurantsReservations',\n 'RestaurantsAttire',\n 'OutdoorSeating',\n 'BestNights',\n 'RestaurantsTableService',\n 'Ambience',\n 'RestaurantsPriceRange2',\n 'Alcohol',\n 'RestaurantsGoodForGroups',\n 'BikeParking',\n 'BusinessAcceptsCreditCards',\n 'GoodForKids',\n 'HappyHour',\n 'WiFi',\n 'CoatCheck',\n 'BusinessParking',\n 'GoodForMeal',\n 'WheelchairAccessible',\n 'NoiseLevel',\n 'Caters',\n 'HasTV',\n 'Music',\n 'Smoking',\n 'RestaurantsDelivery',\n 'GoodForDancing']"
     },
     "execution_count": 16,
     "metadata": {},
     "output_type": "execute_result"
    }
   ],
   "source": [
    "filter_null_res.info()\n",
    "# [k for k,v in filter_null_res.attributes[0]]\n",
    "list(filter_null_res.attributes[10].keys())"
   ],
   "metadata": {
    "collapsed": false,
    "ExecuteTime": {
     "end_time": "2023-08-07T18:06:59.797033Z",
     "start_time": "2023-08-07T18:06:59.765687Z"
    }
   }
  },
  {
   "cell_type": "code",
   "source": [
    "import ast\n",
    "from tqdm import tqdm\n",
    "attributes = pd.DataFrame()\n",
    "\n",
    "\n",
    "for row in tqdm(rows):\n",
    "  d = pop_res.loc[row,'attributes']\n",
    "\n",
    "  attr = pd.DataFrame(d,index=[row])\n",
    "  # extra_layer_unfiltered = ['BusinessParking','GoodForMeal','Ambience']\n",
    "  # extra_layer = [e for e in extra_layer_unfiltered if e in attr.columns]\n",
    "  extra_layer = ['BusinessParking','GoodForMeal','Ambience']\n",
    "\n",
    "  for item in extra_layer:\n",
    "    try:\n",
    "        s = attr.loc[row,item]\n",
    "    except KeyError:\n",
    "        continue\n",
    "    if type(s) == pd._libs.missing.NAType:\n",
    "      continue\n",
    "    col = pd.DataFrame(ast.literal_eval(s),index=[row])\n",
    "    attr = pd.concat([attr,col],axis=1)\n",
    "\n",
    "  attr.drop(columns=extra_layer, inplace=True, errors=\"ignore\")\n",
    "  attributes = pd.concat([attributes,attr],axis=0)\n"
   ],
   "metadata": {
    "id": "7SkaKU286s1D",
    "ExecuteTime": {
     "end_time": "2023-08-07T18:27:47.816548Z",
     "start_time": "2023-08-07T18:22:30.630664Z"
    }
   },
   "execution_count": 22,
   "outputs": [
    {
     "name": "stderr",
     "output_type": "stream",
     "text": [
      "100%|██████████| 22434/22434 [05:17<00:00, 70.73it/s]\n"
     ]
    }
   ]
  },
  {
   "cell_type": "code",
   "source": [
    "attributes"
   ],
   "metadata": {
    "id": "KoYvGCgr6s50",
    "ExecuteTime": {
     "end_time": "2023-08-07T18:28:17.016597Z",
     "start_time": "2023-08-07T18:28:16.993118Z"
    }
   },
   "execution_count": 23,
   "outputs": [
    {
     "data": {
      "text/plain": "      RestaurantsDelivery OutdoorSeating BusinessAcceptsCreditCards  \\\n0                   False          False                      False   \n1                    True          False                       True   \n2                    True           True                       True   \n3                    None           None                       True   \n4                    True           True                       True   \n...                   ...            ...                        ...   \n22438               False           True                       True   \n22439                True          False                       True   \n22440                None            NaN                       True   \n22441               False          False                       True   \n22442                None           None                       True   \n\n      BikeParking RestaurantsPriceRange2 RestaurantsTakeOut ByAppointmentOnly  \\\n0            True                      1               True             False   \n1            True                      1               True               NaN   \n2             NaN                      2               True               NaN   \n3            True                      1               True               NaN   \n4            True                      2               True               NaN   \n...           ...                    ...                ...               ...   \n22438        True                      2               True               NaN   \n22439        True                      2               True               NaN   \n22440        True                      3               True             False   \n22441        True                      3              False              True   \n22442        True                      2               None               NaN   \n\n          WiFi      Alcohol Caters  ... CoatCheck   BYOB DriveThru Corkage  \\\n0      u'free'      u'none'   True  ...       NaN    NaN       NaN     NaN   \n1        u'no'      u'none'   True  ...       NaN    NaN       NaN     NaN   \n2       'free'   'full_bar'    NaN  ...       NaN    NaN       NaN     NaN   \n3        u'no'      u'none'   True  ...       NaN    NaN       NaN     NaN   \n4      u'free'   'full_bar'   True  ...       NaN    NaN       NaN     NaN   \n...        ...          ...    ...  ...       ...    ...       ...     ...   \n22438    u'no'  u'full_bar'  False  ...       NaN    NaN       NaN     NaN   \n22439     'no'      u'none'   True  ...       NaN    NaN       NaN     NaN   \n22440      NaN          NaN   True  ...       NaN    NaN       NaN     NaN   \n22441  u'free'   'full_bar'  False  ...       NaN  False       NaN    True   \n22442  u'free'  u'full_bar'  False  ...       NaN    NaN      True     NaN   \n\n      BYOBCorkage AcceptsInsurance RestaurantsCounterService Open24Hours  \\\n0             NaN              NaN                       NaN         NaN   \n1             NaN              NaN                       NaN         NaN   \n2             NaN              NaN                       NaN         NaN   \n3             NaN              NaN                       NaN         NaN   \n4             NaN              NaN                       NaN         NaN   \n...           ...              ...                       ...         ...   \n22438         NaN              NaN                       NaN         NaN   \n22439         NaN              NaN                       NaN         NaN   \n22440         NaN              NaN                       NaN         NaN   \n22441         NaN              NaN                       NaN         NaN   \n22442        'no'              NaN                       NaN         NaN   \n\n      DietaryRestrictions AgesAllowed  \n0                     NaN         NaN  \n1                     NaN         NaN  \n2                     NaN         NaN  \n3                     NaN         NaN  \n4                     NaN         NaN  \n...                   ...         ...  \n22438                 NaN         NaN  \n22439                 NaN         NaN  \n22440                 NaN         NaN  \n22441                 NaN         NaN  \n22442                 NaN         NaN  \n\n[22434 rows x 55 columns]",
      "text/html": "<div>\n<style scoped>\n    .dataframe tbody tr th:only-of-type {\n        vertical-align: middle;\n    }\n\n    .dataframe tbody tr th {\n        vertical-align: top;\n    }\n\n    .dataframe thead th {\n        text-align: right;\n    }\n</style>\n<table border=\"1\" class=\"dataframe\">\n  <thead>\n    <tr style=\"text-align: right;\">\n      <th></th>\n      <th>RestaurantsDelivery</th>\n      <th>OutdoorSeating</th>\n      <th>BusinessAcceptsCreditCards</th>\n      <th>BikeParking</th>\n      <th>RestaurantsPriceRange2</th>\n      <th>RestaurantsTakeOut</th>\n      <th>ByAppointmentOnly</th>\n      <th>WiFi</th>\n      <th>Alcohol</th>\n      <th>Caters</th>\n      <th>...</th>\n      <th>CoatCheck</th>\n      <th>BYOB</th>\n      <th>DriveThru</th>\n      <th>Corkage</th>\n      <th>BYOBCorkage</th>\n      <th>AcceptsInsurance</th>\n      <th>RestaurantsCounterService</th>\n      <th>Open24Hours</th>\n      <th>DietaryRestrictions</th>\n      <th>AgesAllowed</th>\n    </tr>\n  </thead>\n  <tbody>\n    <tr>\n      <th>0</th>\n      <td>False</td>\n      <td>False</td>\n      <td>False</td>\n      <td>True</td>\n      <td>1</td>\n      <td>True</td>\n      <td>False</td>\n      <td>u'free'</td>\n      <td>u'none'</td>\n      <td>True</td>\n      <td>...</td>\n      <td>NaN</td>\n      <td>NaN</td>\n      <td>NaN</td>\n      <td>NaN</td>\n      <td>NaN</td>\n      <td>NaN</td>\n      <td>NaN</td>\n      <td>NaN</td>\n      <td>NaN</td>\n      <td>NaN</td>\n    </tr>\n    <tr>\n      <th>1</th>\n      <td>True</td>\n      <td>False</td>\n      <td>True</td>\n      <td>True</td>\n      <td>1</td>\n      <td>True</td>\n      <td>NaN</td>\n      <td>u'no'</td>\n      <td>u'none'</td>\n      <td>True</td>\n      <td>...</td>\n      <td>NaN</td>\n      <td>NaN</td>\n      <td>NaN</td>\n      <td>NaN</td>\n      <td>NaN</td>\n      <td>NaN</td>\n      <td>NaN</td>\n      <td>NaN</td>\n      <td>NaN</td>\n      <td>NaN</td>\n    </tr>\n    <tr>\n      <th>2</th>\n      <td>True</td>\n      <td>True</td>\n      <td>True</td>\n      <td>NaN</td>\n      <td>2</td>\n      <td>True</td>\n      <td>NaN</td>\n      <td>'free'</td>\n      <td>'full_bar'</td>\n      <td>NaN</td>\n      <td>...</td>\n      <td>NaN</td>\n      <td>NaN</td>\n      <td>NaN</td>\n      <td>NaN</td>\n      <td>NaN</td>\n      <td>NaN</td>\n      <td>NaN</td>\n      <td>NaN</td>\n      <td>NaN</td>\n      <td>NaN</td>\n    </tr>\n    <tr>\n      <th>3</th>\n      <td>None</td>\n      <td>None</td>\n      <td>True</td>\n      <td>True</td>\n      <td>1</td>\n      <td>True</td>\n      <td>NaN</td>\n      <td>u'no'</td>\n      <td>u'none'</td>\n      <td>True</td>\n      <td>...</td>\n      <td>NaN</td>\n      <td>NaN</td>\n      <td>NaN</td>\n      <td>NaN</td>\n      <td>NaN</td>\n      <td>NaN</td>\n      <td>NaN</td>\n      <td>NaN</td>\n      <td>NaN</td>\n      <td>NaN</td>\n    </tr>\n    <tr>\n      <th>4</th>\n      <td>True</td>\n      <td>True</td>\n      <td>True</td>\n      <td>True</td>\n      <td>2</td>\n      <td>True</td>\n      <td>NaN</td>\n      <td>u'free'</td>\n      <td>'full_bar'</td>\n      <td>True</td>\n      <td>...</td>\n      <td>NaN</td>\n      <td>NaN</td>\n      <td>NaN</td>\n      <td>NaN</td>\n      <td>NaN</td>\n      <td>NaN</td>\n      <td>NaN</td>\n      <td>NaN</td>\n      <td>NaN</td>\n      <td>NaN</td>\n    </tr>\n    <tr>\n      <th>...</th>\n      <td>...</td>\n      <td>...</td>\n      <td>...</td>\n      <td>...</td>\n      <td>...</td>\n      <td>...</td>\n      <td>...</td>\n      <td>...</td>\n      <td>...</td>\n      <td>...</td>\n      <td>...</td>\n      <td>...</td>\n      <td>...</td>\n      <td>...</td>\n      <td>...</td>\n      <td>...</td>\n      <td>...</td>\n      <td>...</td>\n      <td>...</td>\n      <td>...</td>\n      <td>...</td>\n    </tr>\n    <tr>\n      <th>22438</th>\n      <td>False</td>\n      <td>True</td>\n      <td>True</td>\n      <td>True</td>\n      <td>2</td>\n      <td>True</td>\n      <td>NaN</td>\n      <td>u'no'</td>\n      <td>u'full_bar'</td>\n      <td>False</td>\n      <td>...</td>\n      <td>NaN</td>\n      <td>NaN</td>\n      <td>NaN</td>\n      <td>NaN</td>\n      <td>NaN</td>\n      <td>NaN</td>\n      <td>NaN</td>\n      <td>NaN</td>\n      <td>NaN</td>\n      <td>NaN</td>\n    </tr>\n    <tr>\n      <th>22439</th>\n      <td>True</td>\n      <td>False</td>\n      <td>True</td>\n      <td>True</td>\n      <td>2</td>\n      <td>True</td>\n      <td>NaN</td>\n      <td>'no'</td>\n      <td>u'none'</td>\n      <td>True</td>\n      <td>...</td>\n      <td>NaN</td>\n      <td>NaN</td>\n      <td>NaN</td>\n      <td>NaN</td>\n      <td>NaN</td>\n      <td>NaN</td>\n      <td>NaN</td>\n      <td>NaN</td>\n      <td>NaN</td>\n      <td>NaN</td>\n    </tr>\n    <tr>\n      <th>22440</th>\n      <td>None</td>\n      <td>NaN</td>\n      <td>True</td>\n      <td>True</td>\n      <td>3</td>\n      <td>True</td>\n      <td>False</td>\n      <td>NaN</td>\n      <td>NaN</td>\n      <td>True</td>\n      <td>...</td>\n      <td>NaN</td>\n      <td>NaN</td>\n      <td>NaN</td>\n      <td>NaN</td>\n      <td>NaN</td>\n      <td>NaN</td>\n      <td>NaN</td>\n      <td>NaN</td>\n      <td>NaN</td>\n      <td>NaN</td>\n    </tr>\n    <tr>\n      <th>22441</th>\n      <td>False</td>\n      <td>False</td>\n      <td>True</td>\n      <td>True</td>\n      <td>3</td>\n      <td>False</td>\n      <td>True</td>\n      <td>u'free'</td>\n      <td>'full_bar'</td>\n      <td>False</td>\n      <td>...</td>\n      <td>NaN</td>\n      <td>False</td>\n      <td>NaN</td>\n      <td>True</td>\n      <td>NaN</td>\n      <td>NaN</td>\n      <td>NaN</td>\n      <td>NaN</td>\n      <td>NaN</td>\n      <td>NaN</td>\n    </tr>\n    <tr>\n      <th>22442</th>\n      <td>None</td>\n      <td>None</td>\n      <td>True</td>\n      <td>True</td>\n      <td>2</td>\n      <td>None</td>\n      <td>NaN</td>\n      <td>u'free'</td>\n      <td>u'full_bar'</td>\n      <td>False</td>\n      <td>...</td>\n      <td>NaN</td>\n      <td>NaN</td>\n      <td>True</td>\n      <td>NaN</td>\n      <td>'no'</td>\n      <td>NaN</td>\n      <td>NaN</td>\n      <td>NaN</td>\n      <td>NaN</td>\n      <td>NaN</td>\n    </tr>\n  </tbody>\n</table>\n<p>22434 rows × 55 columns</p>\n</div>"
     },
     "execution_count": 23,
     "metadata": {},
     "output_type": "execute_result"
    }
   ]
  },
  {
   "cell_type": "code",
   "source": [
    "attributes.columns"
   ],
   "metadata": {
    "id": "OrBw8lCD60gM",
    "ExecuteTime": {
     "end_time": "2023-08-07T18:28:55.963080Z",
     "start_time": "2023-08-07T18:28:55.958567Z"
    }
   },
   "execution_count": 24,
   "outputs": [
    {
     "data": {
      "text/plain": "Index(['RestaurantsDelivery', 'OutdoorSeating', 'BusinessAcceptsCreditCards',\n       'BikeParking', 'RestaurantsPriceRange2', 'RestaurantsTakeOut',\n       'ByAppointmentOnly', 'WiFi', 'Alcohol', 'Caters', 'garage', 'street',\n       'validated', 'lot', 'valet', 'RestaurantsGoodForGroups',\n       'RestaurantsAttire', 'NoiseLevel', 'GoodForKids',\n       'BusinessAcceptsBitcoin', 'RestaurantsTableService',\n       'RestaurantsReservations', 'HasTV', 'WheelchairAccessible', 'dessert',\n       'latenight', 'lunch', 'dinner', 'brunch', 'breakfast', 'romantic',\n       'intimate', 'touristy', 'hipster', 'divey', 'classy', 'trendy',\n       'upscale', 'casual', 'DogsAllowed', 'HappyHour', 'Smoking', 'Music',\n       'GoodForDancing', 'BestNights', 'CoatCheck', 'BYOB', 'DriveThru',\n       'Corkage', 'BYOBCorkage', 'AcceptsInsurance',\n       'RestaurantsCounterService', 'Open24Hours', 'DietaryRestrictions',\n       'AgesAllowed'],\n      dtype='object')"
     },
     "execution_count": 24,
     "metadata": {},
     "output_type": "execute_result"
    }
   ]
  },
  {
   "cell_type": "code",
   "source": [
    "null_count = attributes.isna().sum()\n",
    "\n",
    "#if more than 20% is null -> drop\n",
    "attributes.dropna(thresh=len(attributes)*0.8, axis=1,inplace=True)\n",
    "attributes"
   ],
   "metadata": {
    "id": "k7hXszLK60iM",
    "ExecuteTime": {
     "end_time": "2023-08-07T18:29:05.397734Z",
     "start_time": "2023-08-07T18:29:05.274984Z"
    }
   },
   "execution_count": 25,
   "outputs": [
    {
     "data": {
      "text/plain": "      RestaurantsDelivery OutdoorSeating BusinessAcceptsCreditCards  \\\n0                   False          False                      False   \n1                    True          False                       True   \n2                    True           True                       True   \n3                    None           None                       True   \n4                    True           True                       True   \n...                   ...            ...                        ...   \n22438               False           True                       True   \n22439                True          False                       True   \n22440                None            NaN                       True   \n22441               False          False                       True   \n22442                None           None                       True   \n\n      BikeParking RestaurantsPriceRange2 RestaurantsTakeOut     WiFi  \\\n0            True                      1               True  u'free'   \n1            True                      1               True    u'no'   \n2             NaN                      2               True   'free'   \n3            True                      1               True    u'no'   \n4            True                      2               True  u'free'   \n...           ...                    ...                ...      ...   \n22438        True                      2               True    u'no'   \n22439        True                      2               True     'no'   \n22440        True                      3               True      NaN   \n22441        True                      3              False  u'free'   \n22442        True                      2               None  u'free'   \n\n           Alcohol Caters garage  ...  valet RestaurantsGoodForGroups  \\\n0          u'none'   True  False  ...  False                      NaN   \n1          u'none'   True  False  ...  False                    False   \n2       'full_bar'    NaN   None  ...  False                     True   \n3          u'none'   True  False  ...  False                    False   \n4       'full_bar'   True  False  ...  False                     True   \n...            ...    ...    ...  ...    ...                      ...   \n22438  u'full_bar'  False  False  ...  False                     True   \n22439      u'none'   True  False  ...  False                    False   \n22440          NaN   True   True  ...  False                      NaN   \n22441   'full_bar'  False   True  ...   True                     True   \n22442  u'full_bar'  False   True  ...  False                     True   \n\n      RestaurantsAttire  NoiseLevel GoodForKids RestaurantsReservations  \\\n0                   NaN         NaN         NaN                     NaN   \n1             u'casual'  u'average'        True                   False   \n2              'casual'  u'average'       False                    True   \n3             u'casual'    u'quiet'        True                   False   \n4              'casual'  u'average'        True                    True   \n...                 ...         ...         ...                     ...   \n22438         u'casual'     u'loud'        True                    True   \n22439         u'casual'  u'average'        True                   False   \n22440               NaN  u'average'        True                     NaN   \n22441         u'dressy'  u'average'        True                    True   \n22442          'casual'  u'average'       False                   False   \n\n       HasTV romantic upscale casual  \n0        NaN      NaN     NaN    NaN  \n1       True    False   False   True  \n2      False    False   False  False  \n3       True    False   False   True  \n4       True     None   False   True  \n...      ...      ...     ...    ...  \n22438   True    False   False  False  \n22439   True    False   False   True  \n22440    NaN      NaN     NaN    NaN  \n22441   True     True    None   None  \n22442   True    False   False   True  \n\n[22434 rows x 23 columns]",
      "text/html": "<div>\n<style scoped>\n    .dataframe tbody tr th:only-of-type {\n        vertical-align: middle;\n    }\n\n    .dataframe tbody tr th {\n        vertical-align: top;\n    }\n\n    .dataframe thead th {\n        text-align: right;\n    }\n</style>\n<table border=\"1\" class=\"dataframe\">\n  <thead>\n    <tr style=\"text-align: right;\">\n      <th></th>\n      <th>RestaurantsDelivery</th>\n      <th>OutdoorSeating</th>\n      <th>BusinessAcceptsCreditCards</th>\n      <th>BikeParking</th>\n      <th>RestaurantsPriceRange2</th>\n      <th>RestaurantsTakeOut</th>\n      <th>WiFi</th>\n      <th>Alcohol</th>\n      <th>Caters</th>\n      <th>garage</th>\n      <th>...</th>\n      <th>valet</th>\n      <th>RestaurantsGoodForGroups</th>\n      <th>RestaurantsAttire</th>\n      <th>NoiseLevel</th>\n      <th>GoodForKids</th>\n      <th>RestaurantsReservations</th>\n      <th>HasTV</th>\n      <th>romantic</th>\n      <th>upscale</th>\n      <th>casual</th>\n    </tr>\n  </thead>\n  <tbody>\n    <tr>\n      <th>0</th>\n      <td>False</td>\n      <td>False</td>\n      <td>False</td>\n      <td>True</td>\n      <td>1</td>\n      <td>True</td>\n      <td>u'free'</td>\n      <td>u'none'</td>\n      <td>True</td>\n      <td>False</td>\n      <td>...</td>\n      <td>False</td>\n      <td>NaN</td>\n      <td>NaN</td>\n      <td>NaN</td>\n      <td>NaN</td>\n      <td>NaN</td>\n      <td>NaN</td>\n      <td>NaN</td>\n      <td>NaN</td>\n      <td>NaN</td>\n    </tr>\n    <tr>\n      <th>1</th>\n      <td>True</td>\n      <td>False</td>\n      <td>True</td>\n      <td>True</td>\n      <td>1</td>\n      <td>True</td>\n      <td>u'no'</td>\n      <td>u'none'</td>\n      <td>True</td>\n      <td>False</td>\n      <td>...</td>\n      <td>False</td>\n      <td>False</td>\n      <td>u'casual'</td>\n      <td>u'average'</td>\n      <td>True</td>\n      <td>False</td>\n      <td>True</td>\n      <td>False</td>\n      <td>False</td>\n      <td>True</td>\n    </tr>\n    <tr>\n      <th>2</th>\n      <td>True</td>\n      <td>True</td>\n      <td>True</td>\n      <td>NaN</td>\n      <td>2</td>\n      <td>True</td>\n      <td>'free'</td>\n      <td>'full_bar'</td>\n      <td>NaN</td>\n      <td>None</td>\n      <td>...</td>\n      <td>False</td>\n      <td>True</td>\n      <td>'casual'</td>\n      <td>u'average'</td>\n      <td>False</td>\n      <td>True</td>\n      <td>False</td>\n      <td>False</td>\n      <td>False</td>\n      <td>False</td>\n    </tr>\n    <tr>\n      <th>3</th>\n      <td>None</td>\n      <td>None</td>\n      <td>True</td>\n      <td>True</td>\n      <td>1</td>\n      <td>True</td>\n      <td>u'no'</td>\n      <td>u'none'</td>\n      <td>True</td>\n      <td>False</td>\n      <td>...</td>\n      <td>False</td>\n      <td>False</td>\n      <td>u'casual'</td>\n      <td>u'quiet'</td>\n      <td>True</td>\n      <td>False</td>\n      <td>True</td>\n      <td>False</td>\n      <td>False</td>\n      <td>True</td>\n    </tr>\n    <tr>\n      <th>4</th>\n      <td>True</td>\n      <td>True</td>\n      <td>True</td>\n      <td>True</td>\n      <td>2</td>\n      <td>True</td>\n      <td>u'free'</td>\n      <td>'full_bar'</td>\n      <td>True</td>\n      <td>False</td>\n      <td>...</td>\n      <td>False</td>\n      <td>True</td>\n      <td>'casual'</td>\n      <td>u'average'</td>\n      <td>True</td>\n      <td>True</td>\n      <td>True</td>\n      <td>None</td>\n      <td>False</td>\n      <td>True</td>\n    </tr>\n    <tr>\n      <th>...</th>\n      <td>...</td>\n      <td>...</td>\n      <td>...</td>\n      <td>...</td>\n      <td>...</td>\n      <td>...</td>\n      <td>...</td>\n      <td>...</td>\n      <td>...</td>\n      <td>...</td>\n      <td>...</td>\n      <td>...</td>\n      <td>...</td>\n      <td>...</td>\n      <td>...</td>\n      <td>...</td>\n      <td>...</td>\n      <td>...</td>\n      <td>...</td>\n      <td>...</td>\n      <td>...</td>\n    </tr>\n    <tr>\n      <th>22438</th>\n      <td>False</td>\n      <td>True</td>\n      <td>True</td>\n      <td>True</td>\n      <td>2</td>\n      <td>True</td>\n      <td>u'no'</td>\n      <td>u'full_bar'</td>\n      <td>False</td>\n      <td>False</td>\n      <td>...</td>\n      <td>False</td>\n      <td>True</td>\n      <td>u'casual'</td>\n      <td>u'loud'</td>\n      <td>True</td>\n      <td>True</td>\n      <td>True</td>\n      <td>False</td>\n      <td>False</td>\n      <td>False</td>\n    </tr>\n    <tr>\n      <th>22439</th>\n      <td>True</td>\n      <td>False</td>\n      <td>True</td>\n      <td>True</td>\n      <td>2</td>\n      <td>True</td>\n      <td>'no'</td>\n      <td>u'none'</td>\n      <td>True</td>\n      <td>False</td>\n      <td>...</td>\n      <td>False</td>\n      <td>False</td>\n      <td>u'casual'</td>\n      <td>u'average'</td>\n      <td>True</td>\n      <td>False</td>\n      <td>True</td>\n      <td>False</td>\n      <td>False</td>\n      <td>True</td>\n    </tr>\n    <tr>\n      <th>22440</th>\n      <td>None</td>\n      <td>NaN</td>\n      <td>True</td>\n      <td>True</td>\n      <td>3</td>\n      <td>True</td>\n      <td>NaN</td>\n      <td>NaN</td>\n      <td>True</td>\n      <td>True</td>\n      <td>...</td>\n      <td>False</td>\n      <td>NaN</td>\n      <td>NaN</td>\n      <td>u'average'</td>\n      <td>True</td>\n      <td>NaN</td>\n      <td>NaN</td>\n      <td>NaN</td>\n      <td>NaN</td>\n      <td>NaN</td>\n    </tr>\n    <tr>\n      <th>22441</th>\n      <td>False</td>\n      <td>False</td>\n      <td>True</td>\n      <td>True</td>\n      <td>3</td>\n      <td>False</td>\n      <td>u'free'</td>\n      <td>'full_bar'</td>\n      <td>False</td>\n      <td>True</td>\n      <td>...</td>\n      <td>True</td>\n      <td>True</td>\n      <td>u'dressy'</td>\n      <td>u'average'</td>\n      <td>True</td>\n      <td>True</td>\n      <td>True</td>\n      <td>True</td>\n      <td>None</td>\n      <td>None</td>\n    </tr>\n    <tr>\n      <th>22442</th>\n      <td>None</td>\n      <td>None</td>\n      <td>True</td>\n      <td>True</td>\n      <td>2</td>\n      <td>None</td>\n      <td>u'free'</td>\n      <td>u'full_bar'</td>\n      <td>False</td>\n      <td>True</td>\n      <td>...</td>\n      <td>False</td>\n      <td>True</td>\n      <td>'casual'</td>\n      <td>u'average'</td>\n      <td>False</td>\n      <td>False</td>\n      <td>True</td>\n      <td>False</td>\n      <td>False</td>\n      <td>True</td>\n    </tr>\n  </tbody>\n</table>\n<p>22434 rows × 23 columns</p>\n</div>"
     },
     "execution_count": 25,
     "metadata": {},
     "output_type": "execute_result"
    }
   ]
  },
  {
   "cell_type": "code",
   "source": [
    "attributes.replace(to_replace = {'False': '0', 'True': '1', 'None': pd.NA},inplace=True)\n",
    "cols_to_process = ['Alcohol','NoiseLevel','RestaurantsAttire','WiFi']\n",
    "cols_to_int = ['BikeParking','BusinessAcceptsCreditCards','Caters','GoodForKids','HasTV','OutdoorSeating','RestaurantsDelivery','RestaurantsGoodForGroups','RestaurantsPriceRange2','RestaurantsReservations','RestaurantsTakeOut',\n",
    "               'garage','street','validated','lot','valet','romantic', 'intimate', 'touristy', 'hipster', 'divey',\n",
    "       'classy', 'trendy', 'upscale', 'casual']\n",
    "\n",
    "for col in cols_to_int:\n",
    "  try:\n",
    "    attributes[col] = attributes[col].astype(int, errors=\"ignore\")\n",
    "  except KeyError:\n",
    "    continue\n",
    "attributes"
   ],
   "metadata": {
    "id": "ArgzwP2L60kO",
    "ExecuteTime": {
     "end_time": "2023-08-07T18:31:05.353058Z",
     "start_time": "2023-08-07T18:31:05.270656Z"
    }
   },
   "execution_count": 28,
   "outputs": [
    {
     "data": {
      "text/plain": "      RestaurantsDelivery OutdoorSeating BusinessAcceptsCreditCards  \\\n0                       0              0                          0   \n1                       1              0                          1   \n2                       1              1                          1   \n3                    <NA>           <NA>                          1   \n4                       1              1                          1   \n...                   ...            ...                        ...   \n22438                   0              1                          1   \n22439                   1              0                          1   \n22440                <NA>            NaN                          1   \n22441                   0              0                          1   \n22442                <NA>           <NA>                          1   \n\n      BikeParking RestaurantsPriceRange2 RestaurantsTakeOut     WiFi  \\\n0               1                      1                  1  u'free'   \n1               1                      1                  1    u'no'   \n2             NaN                      2                  1   'free'   \n3               1                      1                  1    u'no'   \n4               1                      2                  1  u'free'   \n...           ...                    ...                ...      ...   \n22438           1                      2                  1    u'no'   \n22439           1                      2                  1     'no'   \n22440           1                      3                  1      NaN   \n22441           1                      3                  0  u'free'   \n22442           1                      2               <NA>  u'free'   \n\n           Alcohol Caters garage  ...  valet RestaurantsGoodForGroups  \\\n0          u'none'      1  False  ...  False                      NaN   \n1          u'none'      1  False  ...  False                        0   \n2       'full_bar'    NaN   None  ...  False                        1   \n3          u'none'      1  False  ...  False                        0   \n4       'full_bar'      1  False  ...  False                        1   \n...            ...    ...    ...  ...    ...                      ...   \n22438  u'full_bar'      0  False  ...  False                        1   \n22439      u'none'      1  False  ...  False                        0   \n22440          NaN      1   True  ...  False                      NaN   \n22441   'full_bar'      0   True  ...   True                        1   \n22442  u'full_bar'      0   True  ...  False                        1   \n\n      RestaurantsAttire  NoiseLevel GoodForKids RestaurantsReservations HasTV  \\\n0                   NaN         NaN         NaN                     NaN   NaN   \n1             u'casual'  u'average'           1                       0     1   \n2              'casual'  u'average'           0                       1     0   \n3             u'casual'    u'quiet'           1                       0     1   \n4              'casual'  u'average'           1                       1     1   \n...                 ...         ...         ...                     ...   ...   \n22438         u'casual'     u'loud'           1                       1     1   \n22439         u'casual'  u'average'           1                       0     1   \n22440               NaN  u'average'           1                     NaN   NaN   \n22441         u'dressy'  u'average'           1                       1     1   \n22442          'casual'  u'average'           0                       0     1   \n\n      romantic upscale casual  \n0          NaN     NaN    NaN  \n1        False   False   True  \n2        False   False  False  \n3        False   False   True  \n4         None   False   True  \n...        ...     ...    ...  \n22438    False   False  False  \n22439    False   False   True  \n22440      NaN     NaN    NaN  \n22441     True    None   None  \n22442    False   False   True  \n\n[22434 rows x 23 columns]",
      "text/html": "<div>\n<style scoped>\n    .dataframe tbody tr th:only-of-type {\n        vertical-align: middle;\n    }\n\n    .dataframe tbody tr th {\n        vertical-align: top;\n    }\n\n    .dataframe thead th {\n        text-align: right;\n    }\n</style>\n<table border=\"1\" class=\"dataframe\">\n  <thead>\n    <tr style=\"text-align: right;\">\n      <th></th>\n      <th>RestaurantsDelivery</th>\n      <th>OutdoorSeating</th>\n      <th>BusinessAcceptsCreditCards</th>\n      <th>BikeParking</th>\n      <th>RestaurantsPriceRange2</th>\n      <th>RestaurantsTakeOut</th>\n      <th>WiFi</th>\n      <th>Alcohol</th>\n      <th>Caters</th>\n      <th>garage</th>\n      <th>...</th>\n      <th>valet</th>\n      <th>RestaurantsGoodForGroups</th>\n      <th>RestaurantsAttire</th>\n      <th>NoiseLevel</th>\n      <th>GoodForKids</th>\n      <th>RestaurantsReservations</th>\n      <th>HasTV</th>\n      <th>romantic</th>\n      <th>upscale</th>\n      <th>casual</th>\n    </tr>\n  </thead>\n  <tbody>\n    <tr>\n      <th>0</th>\n      <td>0</td>\n      <td>0</td>\n      <td>0</td>\n      <td>1</td>\n      <td>1</td>\n      <td>1</td>\n      <td>u'free'</td>\n      <td>u'none'</td>\n      <td>1</td>\n      <td>False</td>\n      <td>...</td>\n      <td>False</td>\n      <td>NaN</td>\n      <td>NaN</td>\n      <td>NaN</td>\n      <td>NaN</td>\n      <td>NaN</td>\n      <td>NaN</td>\n      <td>NaN</td>\n      <td>NaN</td>\n      <td>NaN</td>\n    </tr>\n    <tr>\n      <th>1</th>\n      <td>1</td>\n      <td>0</td>\n      <td>1</td>\n      <td>1</td>\n      <td>1</td>\n      <td>1</td>\n      <td>u'no'</td>\n      <td>u'none'</td>\n      <td>1</td>\n      <td>False</td>\n      <td>...</td>\n      <td>False</td>\n      <td>0</td>\n      <td>u'casual'</td>\n      <td>u'average'</td>\n      <td>1</td>\n      <td>0</td>\n      <td>1</td>\n      <td>False</td>\n      <td>False</td>\n      <td>True</td>\n    </tr>\n    <tr>\n      <th>2</th>\n      <td>1</td>\n      <td>1</td>\n      <td>1</td>\n      <td>NaN</td>\n      <td>2</td>\n      <td>1</td>\n      <td>'free'</td>\n      <td>'full_bar'</td>\n      <td>NaN</td>\n      <td>None</td>\n      <td>...</td>\n      <td>False</td>\n      <td>1</td>\n      <td>'casual'</td>\n      <td>u'average'</td>\n      <td>0</td>\n      <td>1</td>\n      <td>0</td>\n      <td>False</td>\n      <td>False</td>\n      <td>False</td>\n    </tr>\n    <tr>\n      <th>3</th>\n      <td>&lt;NA&gt;</td>\n      <td>&lt;NA&gt;</td>\n      <td>1</td>\n      <td>1</td>\n      <td>1</td>\n      <td>1</td>\n      <td>u'no'</td>\n      <td>u'none'</td>\n      <td>1</td>\n      <td>False</td>\n      <td>...</td>\n      <td>False</td>\n      <td>0</td>\n      <td>u'casual'</td>\n      <td>u'quiet'</td>\n      <td>1</td>\n      <td>0</td>\n      <td>1</td>\n      <td>False</td>\n      <td>False</td>\n      <td>True</td>\n    </tr>\n    <tr>\n      <th>4</th>\n      <td>1</td>\n      <td>1</td>\n      <td>1</td>\n      <td>1</td>\n      <td>2</td>\n      <td>1</td>\n      <td>u'free'</td>\n      <td>'full_bar'</td>\n      <td>1</td>\n      <td>False</td>\n      <td>...</td>\n      <td>False</td>\n      <td>1</td>\n      <td>'casual'</td>\n      <td>u'average'</td>\n      <td>1</td>\n      <td>1</td>\n      <td>1</td>\n      <td>None</td>\n      <td>False</td>\n      <td>True</td>\n    </tr>\n    <tr>\n      <th>...</th>\n      <td>...</td>\n      <td>...</td>\n      <td>...</td>\n      <td>...</td>\n      <td>...</td>\n      <td>...</td>\n      <td>...</td>\n      <td>...</td>\n      <td>...</td>\n      <td>...</td>\n      <td>...</td>\n      <td>...</td>\n      <td>...</td>\n      <td>...</td>\n      <td>...</td>\n      <td>...</td>\n      <td>...</td>\n      <td>...</td>\n      <td>...</td>\n      <td>...</td>\n      <td>...</td>\n    </tr>\n    <tr>\n      <th>22438</th>\n      <td>0</td>\n      <td>1</td>\n      <td>1</td>\n      <td>1</td>\n      <td>2</td>\n      <td>1</td>\n      <td>u'no'</td>\n      <td>u'full_bar'</td>\n      <td>0</td>\n      <td>False</td>\n      <td>...</td>\n      <td>False</td>\n      <td>1</td>\n      <td>u'casual'</td>\n      <td>u'loud'</td>\n      <td>1</td>\n      <td>1</td>\n      <td>1</td>\n      <td>False</td>\n      <td>False</td>\n      <td>False</td>\n    </tr>\n    <tr>\n      <th>22439</th>\n      <td>1</td>\n      <td>0</td>\n      <td>1</td>\n      <td>1</td>\n      <td>2</td>\n      <td>1</td>\n      <td>'no'</td>\n      <td>u'none'</td>\n      <td>1</td>\n      <td>False</td>\n      <td>...</td>\n      <td>False</td>\n      <td>0</td>\n      <td>u'casual'</td>\n      <td>u'average'</td>\n      <td>1</td>\n      <td>0</td>\n      <td>1</td>\n      <td>False</td>\n      <td>False</td>\n      <td>True</td>\n    </tr>\n    <tr>\n      <th>22440</th>\n      <td>&lt;NA&gt;</td>\n      <td>NaN</td>\n      <td>1</td>\n      <td>1</td>\n      <td>3</td>\n      <td>1</td>\n      <td>NaN</td>\n      <td>NaN</td>\n      <td>1</td>\n      <td>True</td>\n      <td>...</td>\n      <td>False</td>\n      <td>NaN</td>\n      <td>NaN</td>\n      <td>u'average'</td>\n      <td>1</td>\n      <td>NaN</td>\n      <td>NaN</td>\n      <td>NaN</td>\n      <td>NaN</td>\n      <td>NaN</td>\n    </tr>\n    <tr>\n      <th>22441</th>\n      <td>0</td>\n      <td>0</td>\n      <td>1</td>\n      <td>1</td>\n      <td>3</td>\n      <td>0</td>\n      <td>u'free'</td>\n      <td>'full_bar'</td>\n      <td>0</td>\n      <td>True</td>\n      <td>...</td>\n      <td>True</td>\n      <td>1</td>\n      <td>u'dressy'</td>\n      <td>u'average'</td>\n      <td>1</td>\n      <td>1</td>\n      <td>1</td>\n      <td>True</td>\n      <td>None</td>\n      <td>None</td>\n    </tr>\n    <tr>\n      <th>22442</th>\n      <td>&lt;NA&gt;</td>\n      <td>&lt;NA&gt;</td>\n      <td>1</td>\n      <td>1</td>\n      <td>2</td>\n      <td>&lt;NA&gt;</td>\n      <td>u'free'</td>\n      <td>u'full_bar'</td>\n      <td>0</td>\n      <td>True</td>\n      <td>...</td>\n      <td>False</td>\n      <td>1</td>\n      <td>'casual'</td>\n      <td>u'average'</td>\n      <td>0</td>\n      <td>0</td>\n      <td>1</td>\n      <td>False</td>\n      <td>False</td>\n      <td>True</td>\n    </tr>\n  </tbody>\n</table>\n<p>22434 rows × 23 columns</p>\n</div>"
     },
     "execution_count": 28,
     "metadata": {},
     "output_type": "execute_result"
    }
   ]
  },
  {
   "cell_type": "code",
   "source": [
    "attributes.Alcohol[attributes.Alcohol == \"u'none'\"] = 0\n",
    "attributes.Alcohol[attributes.Alcohol == \"'none'\"] = 0\n",
    "attributes.Alcohol[attributes.Alcohol == \"u'beer_and_wine'\"] = 1\n",
    "attributes.Alcohol[attributes.Alcohol == \"'beer_and_wine'\"] = 1\n",
    "attributes.Alcohol[attributes.Alcohol == \"u'full_bar'\"] = 2\n",
    "attributes.Alcohol[attributes.Alcohol == \"'full_bar'\"] = 2"
   ],
   "metadata": {
    "id": "qWSslxev60l1",
    "ExecuteTime": {
     "end_time": "2023-08-07T18:31:17.120035Z",
     "start_time": "2023-08-07T18:31:17.100216Z"
    }
   },
   "execution_count": 29,
   "outputs": []
  },
  {
   "cell_type": "code",
   "source": [
    "attributes.NoiseLevel[attributes.NoiseLevel == \"u'quiet'\"] = 0\n",
    "attributes.NoiseLevel[attributes.NoiseLevel == \"'quiet'\"] = 0\n",
    "attributes.NoiseLevel[attributes.NoiseLevel == \"u'average'\"] = 1\n",
    "attributes.NoiseLevel[attributes.NoiseLevel == \"'average'\"] = 1\n",
    "attributes.NoiseLevel[attributes.NoiseLevel == \"u'loud'\"] = 2\n",
    "attributes.NoiseLevel[attributes.NoiseLevel == \"'loud'\"] = 2\n",
    "attributes.NoiseLevel[attributes.NoiseLevel == \"u'very_loud'\"] = 3\n",
    "attributes.NoiseLevel[attributes.NoiseLevel == \"'very_loud'\"] = 3"
   ],
   "metadata": {
    "id": "IlRadwKk7FOH",
    "ExecuteTime": {
     "end_time": "2023-08-07T18:31:17.590484Z",
     "start_time": "2023-08-07T18:31:17.572686Z"
    }
   },
   "execution_count": 30,
   "outputs": []
  },
  {
   "cell_type": "code",
   "source": [
    "attributes.RestaurantsAttire[attributes.RestaurantsAttire == \"u'casual'\"] = 0\n",
    "attributes.RestaurantsAttire[attributes.RestaurantsAttire == \"'casual'\"] = 0\n",
    "attributes.RestaurantsAttire[attributes.RestaurantsAttire == \"u'dressy'\"] = 1\n",
    "attributes.RestaurantsAttire[attributes.RestaurantsAttire == \"'dressy'\"] = 1\n",
    "attributes.RestaurantsAttire[attributes.RestaurantsAttire == \"u'formal'\"] = 2\n",
    "attributes.RestaurantsAttire[attributes.RestaurantsAttire == \"'formal'\"] = 2"
   ],
   "metadata": {
    "id": "kS3mD4Jt7HE0",
    "ExecuteTime": {
     "end_time": "2023-08-07T18:31:18.528090Z",
     "start_time": "2023-08-07T18:31:18.523947Z"
    }
   },
   "execution_count": 31,
   "outputs": []
  },
  {
   "cell_type": "code",
   "source": [
    "attributes.WiFi[attributes.WiFi == \"u'free'\"] = 'free'\n",
    "attributes.WiFi[attributes.WiFi == \"u'no'\"] = 'no'\n",
    "attributes.WiFi[attributes.WiFi == \"u'paid'\"] = 'paid'\n",
    "\n",
    "attributes.WiFi[attributes.WiFi == \"'free'\"] = 'free'\n",
    "attributes.WiFi[attributes.WiFi == \"'no'\"] = 'no'\n",
    "attributes.WiFi[attributes.WiFi == \"'paid'\"] = 'paid'"
   ],
   "metadata": {
    "id": "l9WJOpVQ7JTf",
    "ExecuteTime": {
     "end_time": "2023-08-07T18:31:18.895088Z",
     "start_time": "2023-08-07T18:31:18.880780Z"
    }
   },
   "execution_count": 32,
   "outputs": []
  },
  {
   "cell_type": "code",
   "source": [
    "restaurants = pop_res.merge(attributes,left_index=True, right_index=True)\n",
    "restaurants"
   ],
   "metadata": {
    "id": "sZcUcmvM7Mbv",
    "ExecuteTime": {
     "end_time": "2023-08-07T18:31:20.190368Z",
     "start_time": "2023-08-07T18:31:20.078367Z"
    }
   },
   "execution_count": 33,
   "outputs": [
    {
     "data": {
      "text/plain": "                  business_id                           name  \\\n0      MTSW4McQd7CbVtyjqoe9mw             St Honore Pastries   \n1      0bPLkL0QhhPO5kt1_EXmNQ           Zio's Italian Market   \n2      MUTTqe8uqyMdBl186RmNeA                       Tuna Bar   \n3      ROeacJQwBeh05Rqg7F6TCg                            BAP   \n4      9OG5YkX1g2GReZM0AskizA        Romano's Macaroni Grill   \n...                       ...                            ...   \n22438  -R9t30RvsG-Rtiq63yuEmg  Crescent No Lawyers Bar-Grill   \n22439  wVxXRFf10zTTAs11nr4xeA                   PrimoHoagies   \n22440  WXNag-tmudrFHFlfNLogWg             Whole Foods Market   \n22441  2MAQeAqmD8enCT2ZYqUgIQ    The Melting Pot - Nashville   \n22442  w_4xUt-1AyY2ZwKtnjW0Xg           Bittercreek Alehouse   \n\n                    address          city state postal_code   latitude  \\\n0               935 Race St  Philadelphia    PA       19107  39.955505   \n1             2575 E Bay Dr         Largo    FL       33771  27.916116   \n2               205 Race St  Philadelphia    PA       19106  39.953949   \n3             1224 South St  Philadelphia    PA       19147  39.943223   \n4        5505 S Virginia St          Reno    NV       89502  39.476117   \n...                     ...           ...   ...         ...        ...   \n22438    5500 W Franklin Rd         Boise    ID       83706  43.603368   \n22439        6024 Ridge Ave  Philadelphia    PA       19128  40.032483   \n22440      4577 W Pine Blvd     St. Louis    MO       63108  38.641988   \n22441  166 2nd Ave N, Ste A     Nashville    TN       37201  36.163875   \n22442          246 N 8th St         Boise    ID       83702  43.616590   \n\n        longitude  stars  review_count  ...  valet RestaurantsGoodForGroups  \\\n0      -75.155564    4.0            80  ...  False                      NaN   \n1      -82.760461    4.5           100  ...  False                        0   \n2      -75.143226    4.0           245  ...  False                        1   \n3      -75.162568    4.5           205  ...  False                        0   \n4     -119.789339    2.5           339  ...  False                        1   \n...           ...    ...           ...  ...    ...                      ...   \n22438 -116.250063    2.5            55  ...  False                        1   \n22439  -75.214430    3.0            55  ...  False                        0   \n22440  -90.261655    4.0            71  ...  False                      NaN   \n22441  -86.776311    4.0           204  ...   True                        1   \n22442 -116.202383    4.5           998  ...  False                        1   \n\n      RestaurantsAttire NoiseLevel GoodForKids RestaurantsReservations HasTV  \\\n0                   NaN        NaN         NaN                     NaN   NaN   \n1                     0          1           1                       0     1   \n2                     0          1           0                       1     0   \n3                     0          0           1                       0     1   \n4                     0          1           1                       1     1   \n...                 ...        ...         ...                     ...   ...   \n22438                 0          2           1                       1     1   \n22439                 0          1           1                       0     1   \n22440               NaN          1           1                     NaN   NaN   \n22441                 1          1           1                       1     1   \n22442                 0          1           0                       0     1   \n\n      romantic upscale casual  \n0          NaN     NaN    NaN  \n1        False   False   True  \n2        False   False  False  \n3        False   False   True  \n4         None   False   True  \n...        ...     ...    ...  \n22438    False   False  False  \n22439    False   False   True  \n22440      NaN     NaN    NaN  \n22441     True    None   None  \n22442    False   False   True  \n\n[22434 rows x 37 columns]",
      "text/html": "<div>\n<style scoped>\n    .dataframe tbody tr th:only-of-type {\n        vertical-align: middle;\n    }\n\n    .dataframe tbody tr th {\n        vertical-align: top;\n    }\n\n    .dataframe thead th {\n        text-align: right;\n    }\n</style>\n<table border=\"1\" class=\"dataframe\">\n  <thead>\n    <tr style=\"text-align: right;\">\n      <th></th>\n      <th>business_id</th>\n      <th>name</th>\n      <th>address</th>\n      <th>city</th>\n      <th>state</th>\n      <th>postal_code</th>\n      <th>latitude</th>\n      <th>longitude</th>\n      <th>stars</th>\n      <th>review_count</th>\n      <th>...</th>\n      <th>valet</th>\n      <th>RestaurantsGoodForGroups</th>\n      <th>RestaurantsAttire</th>\n      <th>NoiseLevel</th>\n      <th>GoodForKids</th>\n      <th>RestaurantsReservations</th>\n      <th>HasTV</th>\n      <th>romantic</th>\n      <th>upscale</th>\n      <th>casual</th>\n    </tr>\n  </thead>\n  <tbody>\n    <tr>\n      <th>0</th>\n      <td>MTSW4McQd7CbVtyjqoe9mw</td>\n      <td>St Honore Pastries</td>\n      <td>935 Race St</td>\n      <td>Philadelphia</td>\n      <td>PA</td>\n      <td>19107</td>\n      <td>39.955505</td>\n      <td>-75.155564</td>\n      <td>4.0</td>\n      <td>80</td>\n      <td>...</td>\n      <td>False</td>\n      <td>NaN</td>\n      <td>NaN</td>\n      <td>NaN</td>\n      <td>NaN</td>\n      <td>NaN</td>\n      <td>NaN</td>\n      <td>NaN</td>\n      <td>NaN</td>\n      <td>NaN</td>\n    </tr>\n    <tr>\n      <th>1</th>\n      <td>0bPLkL0QhhPO5kt1_EXmNQ</td>\n      <td>Zio's Italian Market</td>\n      <td>2575 E Bay Dr</td>\n      <td>Largo</td>\n      <td>FL</td>\n      <td>33771</td>\n      <td>27.916116</td>\n      <td>-82.760461</td>\n      <td>4.5</td>\n      <td>100</td>\n      <td>...</td>\n      <td>False</td>\n      <td>0</td>\n      <td>0</td>\n      <td>1</td>\n      <td>1</td>\n      <td>0</td>\n      <td>1</td>\n      <td>False</td>\n      <td>False</td>\n      <td>True</td>\n    </tr>\n    <tr>\n      <th>2</th>\n      <td>MUTTqe8uqyMdBl186RmNeA</td>\n      <td>Tuna Bar</td>\n      <td>205 Race St</td>\n      <td>Philadelphia</td>\n      <td>PA</td>\n      <td>19106</td>\n      <td>39.953949</td>\n      <td>-75.143226</td>\n      <td>4.0</td>\n      <td>245</td>\n      <td>...</td>\n      <td>False</td>\n      <td>1</td>\n      <td>0</td>\n      <td>1</td>\n      <td>0</td>\n      <td>1</td>\n      <td>0</td>\n      <td>False</td>\n      <td>False</td>\n      <td>False</td>\n    </tr>\n    <tr>\n      <th>3</th>\n      <td>ROeacJQwBeh05Rqg7F6TCg</td>\n      <td>BAP</td>\n      <td>1224 South St</td>\n      <td>Philadelphia</td>\n      <td>PA</td>\n      <td>19147</td>\n      <td>39.943223</td>\n      <td>-75.162568</td>\n      <td>4.5</td>\n      <td>205</td>\n      <td>...</td>\n      <td>False</td>\n      <td>0</td>\n      <td>0</td>\n      <td>0</td>\n      <td>1</td>\n      <td>0</td>\n      <td>1</td>\n      <td>False</td>\n      <td>False</td>\n      <td>True</td>\n    </tr>\n    <tr>\n      <th>4</th>\n      <td>9OG5YkX1g2GReZM0AskizA</td>\n      <td>Romano's Macaroni Grill</td>\n      <td>5505 S Virginia St</td>\n      <td>Reno</td>\n      <td>NV</td>\n      <td>89502</td>\n      <td>39.476117</td>\n      <td>-119.789339</td>\n      <td>2.5</td>\n      <td>339</td>\n      <td>...</td>\n      <td>False</td>\n      <td>1</td>\n      <td>0</td>\n      <td>1</td>\n      <td>1</td>\n      <td>1</td>\n      <td>1</td>\n      <td>None</td>\n      <td>False</td>\n      <td>True</td>\n    </tr>\n    <tr>\n      <th>...</th>\n      <td>...</td>\n      <td>...</td>\n      <td>...</td>\n      <td>...</td>\n      <td>...</td>\n      <td>...</td>\n      <td>...</td>\n      <td>...</td>\n      <td>...</td>\n      <td>...</td>\n      <td>...</td>\n      <td>...</td>\n      <td>...</td>\n      <td>...</td>\n      <td>...</td>\n      <td>...</td>\n      <td>...</td>\n      <td>...</td>\n      <td>...</td>\n      <td>...</td>\n      <td>...</td>\n    </tr>\n    <tr>\n      <th>22438</th>\n      <td>-R9t30RvsG-Rtiq63yuEmg</td>\n      <td>Crescent No Lawyers Bar-Grill</td>\n      <td>5500 W Franklin Rd</td>\n      <td>Boise</td>\n      <td>ID</td>\n      <td>83706</td>\n      <td>43.603368</td>\n      <td>-116.250063</td>\n      <td>2.5</td>\n      <td>55</td>\n      <td>...</td>\n      <td>False</td>\n      <td>1</td>\n      <td>0</td>\n      <td>2</td>\n      <td>1</td>\n      <td>1</td>\n      <td>1</td>\n      <td>False</td>\n      <td>False</td>\n      <td>False</td>\n    </tr>\n    <tr>\n      <th>22439</th>\n      <td>wVxXRFf10zTTAs11nr4xeA</td>\n      <td>PrimoHoagies</td>\n      <td>6024 Ridge Ave</td>\n      <td>Philadelphia</td>\n      <td>PA</td>\n      <td>19128</td>\n      <td>40.032483</td>\n      <td>-75.214430</td>\n      <td>3.0</td>\n      <td>55</td>\n      <td>...</td>\n      <td>False</td>\n      <td>0</td>\n      <td>0</td>\n      <td>1</td>\n      <td>1</td>\n      <td>0</td>\n      <td>1</td>\n      <td>False</td>\n      <td>False</td>\n      <td>True</td>\n    </tr>\n    <tr>\n      <th>22440</th>\n      <td>WXNag-tmudrFHFlfNLogWg</td>\n      <td>Whole Foods Market</td>\n      <td>4577 W Pine Blvd</td>\n      <td>St. Louis</td>\n      <td>MO</td>\n      <td>63108</td>\n      <td>38.641988</td>\n      <td>-90.261655</td>\n      <td>4.0</td>\n      <td>71</td>\n      <td>...</td>\n      <td>False</td>\n      <td>NaN</td>\n      <td>NaN</td>\n      <td>1</td>\n      <td>1</td>\n      <td>NaN</td>\n      <td>NaN</td>\n      <td>NaN</td>\n      <td>NaN</td>\n      <td>NaN</td>\n    </tr>\n    <tr>\n      <th>22441</th>\n      <td>2MAQeAqmD8enCT2ZYqUgIQ</td>\n      <td>The Melting Pot - Nashville</td>\n      <td>166 2nd Ave N, Ste A</td>\n      <td>Nashville</td>\n      <td>TN</td>\n      <td>37201</td>\n      <td>36.163875</td>\n      <td>-86.776311</td>\n      <td>4.0</td>\n      <td>204</td>\n      <td>...</td>\n      <td>True</td>\n      <td>1</td>\n      <td>1</td>\n      <td>1</td>\n      <td>1</td>\n      <td>1</td>\n      <td>1</td>\n      <td>True</td>\n      <td>None</td>\n      <td>None</td>\n    </tr>\n    <tr>\n      <th>22442</th>\n      <td>w_4xUt-1AyY2ZwKtnjW0Xg</td>\n      <td>Bittercreek Alehouse</td>\n      <td>246 N 8th St</td>\n      <td>Boise</td>\n      <td>ID</td>\n      <td>83702</td>\n      <td>43.616590</td>\n      <td>-116.202383</td>\n      <td>4.5</td>\n      <td>998</td>\n      <td>...</td>\n      <td>False</td>\n      <td>1</td>\n      <td>0</td>\n      <td>1</td>\n      <td>0</td>\n      <td>0</td>\n      <td>1</td>\n      <td>False</td>\n      <td>False</td>\n      <td>True</td>\n    </tr>\n  </tbody>\n</table>\n<p>22434 rows × 37 columns</p>\n</div>"
     },
     "execution_count": 33,
     "metadata": {},
     "output_type": "execute_result"
    }
   ]
  },
  {
   "cell_type": "code",
   "source": [
    "### run this cell --> no need to rerun preprocessing\n",
    "'''\n",
    "restaurants = pd.read_csv(path+'restaurants_processed_w_reviews.csv',index_col=0)\n",
    "#filtered_restaurants = pd.read_csv(path+'restaurants_processed.csv',index_col=0)\n",
    "attributes = pd.read_csv(path+'attributes.csv',index_col=0)\n",
    "restaurants.info()\n",
    "#already drop attributes with too much nans\n",
    "# 55 attributes -> 29 '''\n",
    "restaurants.info()"
   ],
   "metadata": {
    "colab": {
     "base_uri": "https://localhost:8080/"
    },
    "id": "bRDVeEv9pA9K",
    "outputId": "d5c38af1-abb3-40df-bc7f-f54d07fcd555",
    "ExecuteTime": {
     "end_time": "2023-08-07T18:31:25.397577Z",
     "start_time": "2023-08-07T18:31:25.359375Z"
    }
   },
   "execution_count": 34,
   "outputs": [
    {
     "name": "stdout",
     "output_type": "stream",
     "text": [
      "<class 'pandas.core.frame.DataFrame'>\n",
      "Int64Index: 22434 entries, 0 to 22442\n",
      "Data columns (total 37 columns):\n",
      " #   Column                      Non-Null Count  Dtype  \n",
      "---  ------                      --------------  -----  \n",
      " 0   business_id                 22434 non-null  object \n",
      " 1   name                        22434 non-null  object \n",
      " 2   address                     22434 non-null  object \n",
      " 3   city                        22434 non-null  object \n",
      " 4   state                       22434 non-null  object \n",
      " 5   postal_code                 22434 non-null  object \n",
      " 6   latitude                    22434 non-null  float64\n",
      " 7   longitude                   22434 non-null  float64\n",
      " 8   stars                       22434 non-null  float64\n",
      " 9   review_count                22434 non-null  int64  \n",
      " 10  is_open                     22434 non-null  int64  \n",
      " 11  attributes                  22434 non-null  object \n",
      " 12  categories                  22434 non-null  object \n",
      " 13  hours                       21774 non-null  object \n",
      " 14  RestaurantsDelivery         19801 non-null  object \n",
      " 15  OutdoorSeating              19508 non-null  object \n",
      " 16  BusinessAcceptsCreditCards  21740 non-null  object \n",
      " 17  BikeParking                 20352 non-null  object \n",
      " 18  RestaurantsPriceRange2      21607 non-null  object \n",
      " 19  RestaurantsTakeOut          21445 non-null  object \n",
      " 20  WiFi                        20331 non-null  object \n",
      " 21  Alcohol                     19792 non-null  object \n",
      " 22  Caters                      19932 non-null  object \n",
      " 23  garage                      21314 non-null  object \n",
      " 24  street                      20720 non-null  object \n",
      " 25  validated                   21397 non-null  object \n",
      " 26  lot                         21076 non-null  object \n",
      " 27  valet                       22064 non-null  object \n",
      " 28  RestaurantsGoodForGroups    19257 non-null  object \n",
      " 29  RestaurantsAttire           18195 non-null  object \n",
      " 30  NoiseLevel                  19303 non-null  object \n",
      " 31  GoodForKids                 19265 non-null  object \n",
      " 32  RestaurantsReservations     19506 non-null  object \n",
      " 33  HasTV                       19868 non-null  object \n",
      " 34  romantic                    18024 non-null  object \n",
      " 35  upscale                     18490 non-null  object \n",
      " 36  casual                      18942 non-null  object \n",
      "dtypes: float64(3), int64(2), object(32)\n",
      "memory usage: 7.0+ MB\n"
     ]
    }
   ]
  },
  {
   "cell_type": "code",
   "source": [
    "restaurants.shape"
   ],
   "metadata": {
    "colab": {
     "base_uri": "https://localhost:8080/"
    },
    "id": "nRO7zWQ1_Kr9",
    "outputId": "4f75fd9f-8a67-4468-d05b-0980c262cae2",
    "ExecuteTime": {
     "end_time": "2023-08-07T18:31:32.251657Z",
     "start_time": "2023-08-07T18:31:32.246316Z"
    }
   },
   "execution_count": 35,
   "outputs": [
    {
     "data": {
      "text/plain": "(22434, 37)"
     },
     "execution_count": 35,
     "metadata": {},
     "output_type": "execute_result"
    }
   ]
  },
  {
   "cell_type": "code",
   "source": [
    "restaurants.fillna(restaurants.mode().iloc[0],inplace=True)"
   ],
   "metadata": {
    "id": "WyR7TECipbbo",
    "ExecuteTime": {
     "end_time": "2023-08-07T18:34:45.522065Z",
     "start_time": "2023-08-07T18:33:59.602148Z"
    }
   },
   "execution_count": 37,
   "outputs": []
  },
  {
   "cell_type": "code",
   "source": [
    "restaurants.isnull().sum()"
   ],
   "metadata": {
    "colab": {
     "base_uri": "https://localhost:8080/"
    },
    "id": "q2S0GClrpbm7",
    "outputId": "bf85a1eb-5dbd-495a-c6ea-be50558f8de6",
    "ExecuteTime": {
     "end_time": "2023-08-07T18:34:45.551020Z",
     "start_time": "2023-08-07T18:34:45.546834Z"
    }
   },
   "execution_count": 38,
   "outputs": [
    {
     "data": {
      "text/plain": "business_id                     0\nname                            0\naddress                         0\ncity                            0\nstate                           0\npostal_code                     0\nlatitude                        0\nlongitude                       0\nstars                           0\nreview_count                    0\nis_open                         0\nattributes                      0\ncategories                      0\nhours                         660\nRestaurantsDelivery             0\nOutdoorSeating                  0\nBusinessAcceptsCreditCards      0\nBikeParking                     0\nRestaurantsPriceRange2          0\nRestaurantsTakeOut              0\nWiFi                            0\nAlcohol                         0\nCaters                          0\ngarage                          0\nstreet                          0\nvalidated                       0\nlot                             0\nvalet                           0\nRestaurantsGoodForGroups        0\nRestaurantsAttire               0\nNoiseLevel                      0\nGoodForKids                     0\nRestaurantsReservations         0\nHasTV                           0\nromantic                        0\nupscale                         0\ncasual                          0\ndtype: int64"
     },
     "execution_count": 38,
     "metadata": {},
     "output_type": "execute_result"
    }
   ]
  },
  {
   "cell_type": "code",
   "source": [
    "wifi = pd.get_dummies(restaurants['WiFi'])\n",
    "restaurants = pd.concat([restaurants,wifi],axis=1)\n",
    "restaurants.drop(columns='WiFi', inplace=True)\n",
    "attributes.drop(columns='WiFi',inplace=True)"
   ],
   "metadata": {
    "id": "J_qjqS9ZpnY_",
    "ExecuteTime": {
     "end_time": "2023-08-07T18:34:45.590072Z",
     "start_time": "2023-08-07T18:34:45.552230Z"
    }
   },
   "execution_count": 39,
   "outputs": []
  },
  {
   "cell_type": "code",
   "source": [
    "restaurants.drop(columns='Unnamed: 0',inplace=True, errors=\"ignore\")\n",
    "restaurants"
   ],
   "metadata": {
    "colab": {
     "base_uri": "https://localhost:8080/",
     "height": 728
    },
    "id": "VJ0O_4GZ_nO-",
    "outputId": "c493c4cf-8775-4ae1-b246-cd148c7f0fd6",
    "ExecuteTime": {
     "end_time": "2023-08-07T18:35:00.959009Z",
     "start_time": "2023-08-07T18:35:00.825045Z"
    }
   },
   "execution_count": 41,
   "outputs": [
    {
     "data": {
      "text/plain": "                  business_id                           name  \\\n0      MTSW4McQd7CbVtyjqoe9mw             St Honore Pastries   \n1      0bPLkL0QhhPO5kt1_EXmNQ           Zio's Italian Market   \n2      MUTTqe8uqyMdBl186RmNeA                       Tuna Bar   \n3      ROeacJQwBeh05Rqg7F6TCg                            BAP   \n4      9OG5YkX1g2GReZM0AskizA        Romano's Macaroni Grill   \n...                       ...                            ...   \n22438  -R9t30RvsG-Rtiq63yuEmg  Crescent No Lawyers Bar-Grill   \n22439  wVxXRFf10zTTAs11nr4xeA                   PrimoHoagies   \n22440  WXNag-tmudrFHFlfNLogWg             Whole Foods Market   \n22441  2MAQeAqmD8enCT2ZYqUgIQ    The Melting Pot - Nashville   \n22442  w_4xUt-1AyY2ZwKtnjW0Xg           Bittercreek Alehouse   \n\n                    address          city state postal_code   latitude  \\\n0               935 Race St  Philadelphia    PA       19107  39.955505   \n1             2575 E Bay Dr         Largo    FL       33771  27.916116   \n2               205 Race St  Philadelphia    PA       19106  39.953949   \n3             1224 South St  Philadelphia    PA       19147  39.943223   \n4        5505 S Virginia St          Reno    NV       89502  39.476117   \n...                     ...           ...   ...         ...        ...   \n22438    5500 W Franklin Rd         Boise    ID       83706  43.603368   \n22439        6024 Ridge Ave  Philadelphia    PA       19128  40.032483   \n22440      4577 W Pine Blvd     St. Louis    MO       63108  38.641988   \n22441  166 2nd Ave N, Ste A     Nashville    TN       37201  36.163875   \n22442          246 N 8th St         Boise    ID       83702  43.616590   \n\n        longitude  stars  review_count  ...  NoiseLevel GoodForKids  \\\n0      -75.155564    4.0            80  ...           1           1   \n1      -82.760461    4.5           100  ...           1           1   \n2      -75.143226    4.0           245  ...           1           0   \n3      -75.162568    4.5           205  ...           0           1   \n4     -119.789339    2.5           339  ...           1           1   \n...           ...    ...           ...  ...         ...         ...   \n22438 -116.250063    2.5            55  ...           2           1   \n22439  -75.214430    3.0            55  ...           1           1   \n22440  -90.261655    4.0            71  ...           1           1   \n22441  -86.776311    4.0           204  ...           1           1   \n22442 -116.202383    4.5           998  ...           1           0   \n\n      RestaurantsReservations HasTV romantic upscale casual free no paid  \n0                           0     1    False   False   True    1  0    0  \n1                           0     1    False   False   True    0  1    0  \n2                           1     0    False   False  False    1  0    0  \n3                           0     1    False   False   True    0  1    0  \n4                           1     1    False   False   True    1  0    0  \n...                       ...   ...      ...     ...    ...  ... ..  ...  \n22438                       1     1    False   False  False    0  1    0  \n22439                       0     1    False   False   True    0  1    0  \n22440                       0     1    False   False   True    1  0    0  \n22441                       1     1     True   False   True    1  0    0  \n22442                       0     1    False   False   True    1  0    0  \n\n[22434 rows x 39 columns]",
      "text/html": "<div>\n<style scoped>\n    .dataframe tbody tr th:only-of-type {\n        vertical-align: middle;\n    }\n\n    .dataframe tbody tr th {\n        vertical-align: top;\n    }\n\n    .dataframe thead th {\n        text-align: right;\n    }\n</style>\n<table border=\"1\" class=\"dataframe\">\n  <thead>\n    <tr style=\"text-align: right;\">\n      <th></th>\n      <th>business_id</th>\n      <th>name</th>\n      <th>address</th>\n      <th>city</th>\n      <th>state</th>\n      <th>postal_code</th>\n      <th>latitude</th>\n      <th>longitude</th>\n      <th>stars</th>\n      <th>review_count</th>\n      <th>...</th>\n      <th>NoiseLevel</th>\n      <th>GoodForKids</th>\n      <th>RestaurantsReservations</th>\n      <th>HasTV</th>\n      <th>romantic</th>\n      <th>upscale</th>\n      <th>casual</th>\n      <th>free</th>\n      <th>no</th>\n      <th>paid</th>\n    </tr>\n  </thead>\n  <tbody>\n    <tr>\n      <th>0</th>\n      <td>MTSW4McQd7CbVtyjqoe9mw</td>\n      <td>St Honore Pastries</td>\n      <td>935 Race St</td>\n      <td>Philadelphia</td>\n      <td>PA</td>\n      <td>19107</td>\n      <td>39.955505</td>\n      <td>-75.155564</td>\n      <td>4.0</td>\n      <td>80</td>\n      <td>...</td>\n      <td>1</td>\n      <td>1</td>\n      <td>0</td>\n      <td>1</td>\n      <td>False</td>\n      <td>False</td>\n      <td>True</td>\n      <td>1</td>\n      <td>0</td>\n      <td>0</td>\n    </tr>\n    <tr>\n      <th>1</th>\n      <td>0bPLkL0QhhPO5kt1_EXmNQ</td>\n      <td>Zio's Italian Market</td>\n      <td>2575 E Bay Dr</td>\n      <td>Largo</td>\n      <td>FL</td>\n      <td>33771</td>\n      <td>27.916116</td>\n      <td>-82.760461</td>\n      <td>4.5</td>\n      <td>100</td>\n      <td>...</td>\n      <td>1</td>\n      <td>1</td>\n      <td>0</td>\n      <td>1</td>\n      <td>False</td>\n      <td>False</td>\n      <td>True</td>\n      <td>0</td>\n      <td>1</td>\n      <td>0</td>\n    </tr>\n    <tr>\n      <th>2</th>\n      <td>MUTTqe8uqyMdBl186RmNeA</td>\n      <td>Tuna Bar</td>\n      <td>205 Race St</td>\n      <td>Philadelphia</td>\n      <td>PA</td>\n      <td>19106</td>\n      <td>39.953949</td>\n      <td>-75.143226</td>\n      <td>4.0</td>\n      <td>245</td>\n      <td>...</td>\n      <td>1</td>\n      <td>0</td>\n      <td>1</td>\n      <td>0</td>\n      <td>False</td>\n      <td>False</td>\n      <td>False</td>\n      <td>1</td>\n      <td>0</td>\n      <td>0</td>\n    </tr>\n    <tr>\n      <th>3</th>\n      <td>ROeacJQwBeh05Rqg7F6TCg</td>\n      <td>BAP</td>\n      <td>1224 South St</td>\n      <td>Philadelphia</td>\n      <td>PA</td>\n      <td>19147</td>\n      <td>39.943223</td>\n      <td>-75.162568</td>\n      <td>4.5</td>\n      <td>205</td>\n      <td>...</td>\n      <td>0</td>\n      <td>1</td>\n      <td>0</td>\n      <td>1</td>\n      <td>False</td>\n      <td>False</td>\n      <td>True</td>\n      <td>0</td>\n      <td>1</td>\n      <td>0</td>\n    </tr>\n    <tr>\n      <th>4</th>\n      <td>9OG5YkX1g2GReZM0AskizA</td>\n      <td>Romano's Macaroni Grill</td>\n      <td>5505 S Virginia St</td>\n      <td>Reno</td>\n      <td>NV</td>\n      <td>89502</td>\n      <td>39.476117</td>\n      <td>-119.789339</td>\n      <td>2.5</td>\n      <td>339</td>\n      <td>...</td>\n      <td>1</td>\n      <td>1</td>\n      <td>1</td>\n      <td>1</td>\n      <td>False</td>\n      <td>False</td>\n      <td>True</td>\n      <td>1</td>\n      <td>0</td>\n      <td>0</td>\n    </tr>\n    <tr>\n      <th>...</th>\n      <td>...</td>\n      <td>...</td>\n      <td>...</td>\n      <td>...</td>\n      <td>...</td>\n      <td>...</td>\n      <td>...</td>\n      <td>...</td>\n      <td>...</td>\n      <td>...</td>\n      <td>...</td>\n      <td>...</td>\n      <td>...</td>\n      <td>...</td>\n      <td>...</td>\n      <td>...</td>\n      <td>...</td>\n      <td>...</td>\n      <td>...</td>\n      <td>...</td>\n      <td>...</td>\n    </tr>\n    <tr>\n      <th>22438</th>\n      <td>-R9t30RvsG-Rtiq63yuEmg</td>\n      <td>Crescent No Lawyers Bar-Grill</td>\n      <td>5500 W Franklin Rd</td>\n      <td>Boise</td>\n      <td>ID</td>\n      <td>83706</td>\n      <td>43.603368</td>\n      <td>-116.250063</td>\n      <td>2.5</td>\n      <td>55</td>\n      <td>...</td>\n      <td>2</td>\n      <td>1</td>\n      <td>1</td>\n      <td>1</td>\n      <td>False</td>\n      <td>False</td>\n      <td>False</td>\n      <td>0</td>\n      <td>1</td>\n      <td>0</td>\n    </tr>\n    <tr>\n      <th>22439</th>\n      <td>wVxXRFf10zTTAs11nr4xeA</td>\n      <td>PrimoHoagies</td>\n      <td>6024 Ridge Ave</td>\n      <td>Philadelphia</td>\n      <td>PA</td>\n      <td>19128</td>\n      <td>40.032483</td>\n      <td>-75.214430</td>\n      <td>3.0</td>\n      <td>55</td>\n      <td>...</td>\n      <td>1</td>\n      <td>1</td>\n      <td>0</td>\n      <td>1</td>\n      <td>False</td>\n      <td>False</td>\n      <td>True</td>\n      <td>0</td>\n      <td>1</td>\n      <td>0</td>\n    </tr>\n    <tr>\n      <th>22440</th>\n      <td>WXNag-tmudrFHFlfNLogWg</td>\n      <td>Whole Foods Market</td>\n      <td>4577 W Pine Blvd</td>\n      <td>St. Louis</td>\n      <td>MO</td>\n      <td>63108</td>\n      <td>38.641988</td>\n      <td>-90.261655</td>\n      <td>4.0</td>\n      <td>71</td>\n      <td>...</td>\n      <td>1</td>\n      <td>1</td>\n      <td>0</td>\n      <td>1</td>\n      <td>False</td>\n      <td>False</td>\n      <td>True</td>\n      <td>1</td>\n      <td>0</td>\n      <td>0</td>\n    </tr>\n    <tr>\n      <th>22441</th>\n      <td>2MAQeAqmD8enCT2ZYqUgIQ</td>\n      <td>The Melting Pot - Nashville</td>\n      <td>166 2nd Ave N, Ste A</td>\n      <td>Nashville</td>\n      <td>TN</td>\n      <td>37201</td>\n      <td>36.163875</td>\n      <td>-86.776311</td>\n      <td>4.0</td>\n      <td>204</td>\n      <td>...</td>\n      <td>1</td>\n      <td>1</td>\n      <td>1</td>\n      <td>1</td>\n      <td>True</td>\n      <td>False</td>\n      <td>True</td>\n      <td>1</td>\n      <td>0</td>\n      <td>0</td>\n    </tr>\n    <tr>\n      <th>22442</th>\n      <td>w_4xUt-1AyY2ZwKtnjW0Xg</td>\n      <td>Bittercreek Alehouse</td>\n      <td>246 N 8th St</td>\n      <td>Boise</td>\n      <td>ID</td>\n      <td>83702</td>\n      <td>43.616590</td>\n      <td>-116.202383</td>\n      <td>4.5</td>\n      <td>998</td>\n      <td>...</td>\n      <td>1</td>\n      <td>0</td>\n      <td>0</td>\n      <td>1</td>\n      <td>False</td>\n      <td>False</td>\n      <td>True</td>\n      <td>1</td>\n      <td>0</td>\n      <td>0</td>\n    </tr>\n  </tbody>\n</table>\n<p>22434 rows × 39 columns</p>\n</div>"
     },
     "execution_count": 41,
     "metadata": {},
     "output_type": "execute_result"
    }
   ]
  },
  {
   "cell_type": "markdown",
   "source": [
    "### Preprocessing of reviews --> add to features"
   ],
   "metadata": {
    "id": "v-YsRMV67j6N"
   }
  },
  {
   "cell_type": "code",
   "source": [],
   "metadata": {
    "id": "8VvAvPLX7jce",
    "ExecuteTime": {
     "end_time": "2023-08-07T18:35:08.284854Z",
     "start_time": "2023-08-07T18:35:08.280661Z"
    }
   },
   "execution_count": 41,
   "outputs": []
  },
  {
   "cell_type": "code",
   "source": [],
   "metadata": {
    "id": "9sEuR_pf7niQ",
    "ExecuteTime": {
     "end_time": "2023-08-07T18:35:13.657508Z",
     "start_time": "2023-08-07T18:35:13.653906Z"
    }
   },
   "execution_count": 41,
   "outputs": []
  },
  {
   "cell_type": "markdown",
   "source": [
    "### EDA"
   ],
   "metadata": {
    "id": "R0djkbRy7qYQ"
   }
  },
  {
   "cell_type": "code",
   "source": [
    "features = ['stars','review_count'] +list(attributes.columns) + list(wifi.columns) + ['stars_calculated', 'useful', 'funny', 'cool']\n",
    "label = 'is_open'"
   ],
   "metadata": {
    "id": "6d41s-1KprLU",
    "ExecuteTime": {
     "end_time": "2023-08-07T18:35:14.182124Z",
     "start_time": "2023-08-07T18:35:14.178348Z"
    }
   },
   "execution_count": 42,
   "outputs": []
  },
  {
   "cell_type": "code",
   "source": [
    "features"
   ],
   "metadata": {
    "colab": {
     "base_uri": "https://localhost:8080/"
    },
    "id": "co_xwikvpssr",
    "outputId": "4244ae39-c738-4e23-d1cd-85d800689dae",
    "ExecuteTime": {
     "end_time": "2023-08-07T18:35:14.579375Z",
     "start_time": "2023-08-07T18:35:14.576235Z"
    }
   },
   "execution_count": 43,
   "outputs": [
    {
     "data": {
      "text/plain": "['stars',\n 'review_count',\n 'RestaurantsDelivery',\n 'OutdoorSeating',\n 'BusinessAcceptsCreditCards',\n 'BikeParking',\n 'RestaurantsPriceRange2',\n 'RestaurantsTakeOut',\n 'Alcohol',\n 'Caters',\n 'garage',\n 'street',\n 'validated',\n 'lot',\n 'valet',\n 'RestaurantsGoodForGroups',\n 'RestaurantsAttire',\n 'NoiseLevel',\n 'GoodForKids',\n 'RestaurantsReservations',\n 'HasTV',\n 'romantic',\n 'upscale',\n 'casual',\n 'free',\n 'no',\n 'paid',\n 'stars_calculated',\n 'useful',\n 'funny',\n 'cool']"
     },
     "execution_count": 43,
     "metadata": {},
     "output_type": "execute_result"
    }
   ]
  },
  {
   "cell_type": "code",
   "source": [
    "df = restaurants[['stars','stars_calculated','review_count','RestaurantsPriceRange2',label]]\n",
    "sns.set(rc = {'figure.figsize':(10,7)})\n",
    "sns.heatmap(df.corr(),annot=True)"
   ],
   "metadata": {
    "colab": {
     "base_uri": "https://localhost:8080/",
     "height": 800
    },
    "id": "Sob9V9NZo3Pj",
    "outputId": "5bd80f0a-f470-4c77-c56d-f65fd3001c6a",
    "ExecuteTime": {
     "end_time": "2023-08-07T18:35:15.137626Z",
     "start_time": "2023-08-07T18:35:15.123741Z"
    }
   },
   "execution_count": 44,
   "outputs": [
    {
     "ename": "KeyError",
     "evalue": "\"['stars_calculated'] not in index\"",
     "output_type": "error",
     "traceback": [
      "\u001B[0;31m---------------------------------------------------------------------------\u001B[0m",
      "\u001B[0;31mKeyError\u001B[0m                                  Traceback (most recent call last)",
      "\u001B[0;32m/var/folders/r4/r_0_bgsn42xflb7pw4tmqkh00000gn/T/ipykernel_67285/623840218.py\u001B[0m in \u001B[0;36m<module>\u001B[0;34m\u001B[0m\n\u001B[0;32m----> 1\u001B[0;31m \u001B[0mdf\u001B[0m \u001B[0;34m=\u001B[0m \u001B[0mrestaurants\u001B[0m\u001B[0;34m[\u001B[0m\u001B[0;34m[\u001B[0m\u001B[0;34m'stars'\u001B[0m\u001B[0;34m,\u001B[0m\u001B[0;34m'stars_calculated'\u001B[0m\u001B[0;34m,\u001B[0m\u001B[0;34m'review_count'\u001B[0m\u001B[0;34m,\u001B[0m\u001B[0;34m'RestaurantsPriceRange2'\u001B[0m\u001B[0;34m,\u001B[0m\u001B[0mlabel\u001B[0m\u001B[0;34m]\u001B[0m\u001B[0;34m]\u001B[0m\u001B[0;34m\u001B[0m\u001B[0;34m\u001B[0m\u001B[0m\n\u001B[0m\u001B[1;32m      2\u001B[0m \u001B[0msns\u001B[0m\u001B[0;34m.\u001B[0m\u001B[0mset\u001B[0m\u001B[0;34m(\u001B[0m\u001B[0mrc\u001B[0m \u001B[0;34m=\u001B[0m \u001B[0;34m{\u001B[0m\u001B[0;34m'figure.figsize'\u001B[0m\u001B[0;34m:\u001B[0m\u001B[0;34m(\u001B[0m\u001B[0;36m10\u001B[0m\u001B[0;34m,\u001B[0m\u001B[0;36m7\u001B[0m\u001B[0;34m)\u001B[0m\u001B[0;34m}\u001B[0m\u001B[0;34m)\u001B[0m\u001B[0;34m\u001B[0m\u001B[0;34m\u001B[0m\u001B[0m\n\u001B[1;32m      3\u001B[0m \u001B[0msns\u001B[0m\u001B[0;34m.\u001B[0m\u001B[0mheatmap\u001B[0m\u001B[0;34m(\u001B[0m\u001B[0mdf\u001B[0m\u001B[0;34m.\u001B[0m\u001B[0mcorr\u001B[0m\u001B[0;34m(\u001B[0m\u001B[0;34m)\u001B[0m\u001B[0;34m,\u001B[0m\u001B[0mannot\u001B[0m\u001B[0;34m=\u001B[0m\u001B[0;32mTrue\u001B[0m\u001B[0;34m)\u001B[0m\u001B[0;34m\u001B[0m\u001B[0;34m\u001B[0m\u001B[0m\n",
      "\u001B[0;32m~/opt/anaconda3/lib/python3.9/site-packages/pandas/core/frame.py\u001B[0m in \u001B[0;36m__getitem__\u001B[0;34m(self, key)\u001B[0m\n\u001B[1;32m   3462\u001B[0m             \u001B[0;32mif\u001B[0m \u001B[0mis_iterator\u001B[0m\u001B[0;34m(\u001B[0m\u001B[0mkey\u001B[0m\u001B[0;34m)\u001B[0m\u001B[0;34m:\u001B[0m\u001B[0;34m\u001B[0m\u001B[0;34m\u001B[0m\u001B[0m\n\u001B[1;32m   3463\u001B[0m                 \u001B[0mkey\u001B[0m \u001B[0;34m=\u001B[0m \u001B[0mlist\u001B[0m\u001B[0;34m(\u001B[0m\u001B[0mkey\u001B[0m\u001B[0;34m)\u001B[0m\u001B[0;34m\u001B[0m\u001B[0;34m\u001B[0m\u001B[0m\n\u001B[0;32m-> 3464\u001B[0;31m             \u001B[0mindexer\u001B[0m \u001B[0;34m=\u001B[0m \u001B[0mself\u001B[0m\u001B[0;34m.\u001B[0m\u001B[0mloc\u001B[0m\u001B[0;34m.\u001B[0m\u001B[0m_get_listlike_indexer\u001B[0m\u001B[0;34m(\u001B[0m\u001B[0mkey\u001B[0m\u001B[0;34m,\u001B[0m \u001B[0maxis\u001B[0m\u001B[0;34m=\u001B[0m\u001B[0;36m1\u001B[0m\u001B[0;34m)\u001B[0m\u001B[0;34m[\u001B[0m\u001B[0;36m1\u001B[0m\u001B[0;34m]\u001B[0m\u001B[0;34m\u001B[0m\u001B[0;34m\u001B[0m\u001B[0m\n\u001B[0m\u001B[1;32m   3465\u001B[0m \u001B[0;34m\u001B[0m\u001B[0m\n\u001B[1;32m   3466\u001B[0m         \u001B[0;31m# take() does not accept boolean indexers\u001B[0m\u001B[0;34m\u001B[0m\u001B[0;34m\u001B[0m\u001B[0m\n",
      "\u001B[0;32m~/opt/anaconda3/lib/python3.9/site-packages/pandas/core/indexing.py\u001B[0m in \u001B[0;36m_get_listlike_indexer\u001B[0;34m(self, key, axis)\u001B[0m\n\u001B[1;32m   1312\u001B[0m             \u001B[0mkeyarr\u001B[0m\u001B[0;34m,\u001B[0m \u001B[0mindexer\u001B[0m\u001B[0;34m,\u001B[0m \u001B[0mnew_indexer\u001B[0m \u001B[0;34m=\u001B[0m \u001B[0max\u001B[0m\u001B[0;34m.\u001B[0m\u001B[0m_reindex_non_unique\u001B[0m\u001B[0;34m(\u001B[0m\u001B[0mkeyarr\u001B[0m\u001B[0;34m)\u001B[0m\u001B[0;34m\u001B[0m\u001B[0;34m\u001B[0m\u001B[0m\n\u001B[1;32m   1313\u001B[0m \u001B[0;34m\u001B[0m\u001B[0m\n\u001B[0;32m-> 1314\u001B[0;31m         \u001B[0mself\u001B[0m\u001B[0;34m.\u001B[0m\u001B[0m_validate_read_indexer\u001B[0m\u001B[0;34m(\u001B[0m\u001B[0mkeyarr\u001B[0m\u001B[0;34m,\u001B[0m \u001B[0mindexer\u001B[0m\u001B[0;34m,\u001B[0m \u001B[0maxis\u001B[0m\u001B[0;34m)\u001B[0m\u001B[0;34m\u001B[0m\u001B[0;34m\u001B[0m\u001B[0m\n\u001B[0m\u001B[1;32m   1315\u001B[0m \u001B[0;34m\u001B[0m\u001B[0m\n\u001B[1;32m   1316\u001B[0m         if needs_i8_conversion(ax.dtype) or isinstance(\n",
      "\u001B[0;32m~/opt/anaconda3/lib/python3.9/site-packages/pandas/core/indexing.py\u001B[0m in \u001B[0;36m_validate_read_indexer\u001B[0;34m(self, key, indexer, axis)\u001B[0m\n\u001B[1;32m   1375\u001B[0m \u001B[0;34m\u001B[0m\u001B[0m\n\u001B[1;32m   1376\u001B[0m             \u001B[0mnot_found\u001B[0m \u001B[0;34m=\u001B[0m \u001B[0mlist\u001B[0m\u001B[0;34m(\u001B[0m\u001B[0mensure_index\u001B[0m\u001B[0;34m(\u001B[0m\u001B[0mkey\u001B[0m\u001B[0;34m)\u001B[0m\u001B[0;34m[\u001B[0m\u001B[0mmissing_mask\u001B[0m\u001B[0;34m.\u001B[0m\u001B[0mnonzero\u001B[0m\u001B[0;34m(\u001B[0m\u001B[0;34m)\u001B[0m\u001B[0;34m[\u001B[0m\u001B[0;36m0\u001B[0m\u001B[0;34m]\u001B[0m\u001B[0;34m]\u001B[0m\u001B[0;34m.\u001B[0m\u001B[0munique\u001B[0m\u001B[0;34m(\u001B[0m\u001B[0;34m)\u001B[0m\u001B[0;34m)\u001B[0m\u001B[0;34m\u001B[0m\u001B[0;34m\u001B[0m\u001B[0m\n\u001B[0;32m-> 1377\u001B[0;31m             \u001B[0;32mraise\u001B[0m \u001B[0mKeyError\u001B[0m\u001B[0;34m(\u001B[0m\u001B[0;34mf\"{not_found} not in index\"\u001B[0m\u001B[0;34m)\u001B[0m\u001B[0;34m\u001B[0m\u001B[0;34m\u001B[0m\u001B[0m\n\u001B[0m\u001B[1;32m   1378\u001B[0m \u001B[0;34m\u001B[0m\u001B[0m\n\u001B[1;32m   1379\u001B[0m \u001B[0;34m\u001B[0m\u001B[0m\n",
      "\u001B[0;31mKeyError\u001B[0m: \"['stars_calculated'] not in index\""
     ]
    }
   ]
  },
  {
   "cell_type": "code",
   "source": [
    "#some visualization here\n",
    "restaurants"
   ],
   "metadata": {
    "colab": {
     "base_uri": "https://localhost:8080/",
     "height": 728
    },
    "id": "e4wVz1Um9GcX",
    "outputId": "c30ddaa6-d561-44c3-a848-e316d7610235"
   },
   "execution_count": null,
   "outputs": []
  },
  {
   "cell_type": "code",
   "source": [
    "X = restaurants[features]\n",
    "y = restaurants[label]"
   ],
   "metadata": {
    "id": "5MTu8gyCpvLk"
   },
   "execution_count": null,
   "outputs": []
  },
  {
   "cell_type": "code",
   "source": [
    "y.value_counts()"
   ],
   "metadata": {
    "colab": {
     "base_uri": "https://localhost:8080/"
    },
    "id": "z6E_3MiD-BcP",
    "outputId": "aa6222aa-806e-4c7b-f77f-58e18ddd3110"
   },
   "execution_count": null,
   "outputs": []
  },
  {
   "cell_type": "code",
   "source": [
    "#restaurants = restaurants.drop(restaurants[restaurants['is_open'] == 1].sample(frac=.5).index)\n",
    "from imblearn.over_sampling import RandomOverSampler\n",
    "from imblearn.under_sampling import RandomUnderSampler\n",
    "\n",
    "ros = RandomOverSampler(random_state=0)\n",
    "rus = RandomUnderSampler(random_state=1)\n",
    "X_resampled, y_resampled = ros.fit_resample(X, y)"
   ],
   "metadata": {
    "id": "cA4Ac1cj94Se"
   },
   "execution_count": null,
   "outputs": []
  },
  {
   "cell_type": "code",
   "source": [
    "y_resampled.value_counts()"
   ],
   "metadata": {
    "colab": {
     "base_uri": "https://localhost:8080/"
    },
    "id": "DBsWlIhq113K",
    "outputId": "66904925-2d49-4793-ff88-292fc2791c12"
   },
   "execution_count": null,
   "outputs": [
    {
     "output_type": "execute_result",
     "data": {
      "text/plain": [
       "0    17060\n",
       "1    17060\n",
       "Name: is_open, dtype: int64"
      ]
     },
     "metadata": {},
     "execution_count": 17
    }
   ]
  },
  {
   "cell_type": "code",
   "source": [
    "#feature selection\n",
    "\n",
    "from sklearn.feature_selection import SelectKBest\n",
    "from sklearn.feature_selection import f_classif\n",
    "\n",
    "selector = SelectKBest(f_classif, k=5)\n",
    "selector.fit(X, y)\n",
    "filter = selector.get_support()\n",
    "top_5_features = X.columns[filter]\n",
    "\n",
    "print(\"Best 5 features:\")\n",
    "print(top_5_features)"
   ],
   "metadata": {
    "id": "HQYgTT03vA9U",
    "colab": {
     "base_uri": "https://localhost:8080/"
    },
    "outputId": "a95a2b14-e20b-48e5-e103-719a85c8f18e"
   },
   "execution_count": null,
   "outputs": [
    {
     "output_type": "stream",
     "name": "stdout",
     "text": [
      "Best 5 features:\n",
      "Index(['review_count', 'HasTV', 'RestaurantsDelivery', 'street', 'lot'], dtype='object')\n"
     ]
    }
   ]
  },
  {
   "cell_type": "code",
   "source": [
    "# PCA\n",
    "from scipy import stats\n",
    "from sklearn.decomposition import PCA\n",
    "from sklearn.metrics import silhouette_samples\n",
    "\n",
    "zscoredData = stats.zscore(X)\n",
    "pca = PCA().fit(zscoredData)\n",
    "eigVals = pca.explained_variance_\n",
    "loadings = pca.components_*-1\n",
    "rotated = pca.fit_transform(zscoredData)*-1"
   ],
   "metadata": {
    "id": "cChvFzv2sT9H"
   },
   "execution_count": null,
   "outputs": []
  },
  {
   "cell_type": "code",
   "source": [
    "#scree plot\n",
    "numClasses = X.shape[1]\n",
    "x = np.linspace(1,numClasses,numClasses)\n",
    "plt.bar(x, eigVals, color='gray')\n",
    "plt.plot([0,numClasses],[1,1],color='orange') # Orange Kaiser criterion line for the fox\n",
    "plt.xlabel('Principal component')\n",
    "plt.ylabel('Eigenvalue')\n",
    "plt.show()"
   ],
   "metadata": {
    "colab": {
     "base_uri": "https://localhost:8080/",
     "height": 627
    },
    "id": "PnhWXS_vtUNo",
    "outputId": "c740ac9e-2784-42ac-eb22-c6b587367792"
   },
   "execution_count": null,
   "outputs": [
    {
     "output_type": "display_data",
     "data": {
      "text/plain": [
       "<Figure size 1000x700 with 1 Axes>"
      ],
      "image/png": "[encoded data removed]"
     },
     "metadata": {}
    }
   ]
  },
  {
   "cell_type": "markdown",
   "source": [
    "### Build and evaluate model"
   ],
   "metadata": {
    "id": "fQJQ1NbN71ZA"
   }
  },
  {
   "cell_type": "code",
   "source": [
    "from sklearn.model_selection import train_test_split, cross_val_score\n",
    "from sklearn.ensemble import RandomForestClassifier\n",
    "from sklearn.linear_model import LogisticRegression\n",
    "from sklearn.metrics import roc_curve, auc, accuracy_score\n",
    "\n",
    "X_train, X_test, y_train, y_test = train_test_split(X, y, test_size=0.30, random_state=1234)\n",
    "#X_train, X_test, y_train, y_test = train_test_split(X_resampled, y_resampled, test_size=0.30, random_state=1234)"
   ],
   "metadata": {
    "id": "szpvlCvZpyuI"
   },
   "execution_count": null,
   "outputs": []
  },
  {
   "cell_type": "code",
   "source": [
    "model = RandomForestClassifier()\n",
    "model.fit(X_train,y_train)\n",
    "pred = model.predict(X_test)\n",
    "prob = model.predict_proba(X_test)[:,1]\n",
    "\n",
    "fpr, tpr, thresholds = roc_curve(y_test,prob)\n",
    "\n",
    "fig = plt.figure()\n",
    "ax = fig.add_subplot(111)\n",
    "sns.lineplot(x=fpr, y=tpr, marker = 'o')\n",
    "plt.title(\"Receiver operating characteristic (ROC) curve\")\n",
    "plt.xlabel(\"False positive rate\")\n",
    "plt.ylabel(\"True positive rate\")\n",
    "#plt.legend(['RF with 20 estimators', 'RF with 100 estimators'])\n",
    "plt.show()"
   ],
   "metadata": {
    "colab": {
     "base_uri": "https://localhost:8080/",
     "height": 650
    },
    "id": "Bqk-wJdEp105",
    "outputId": "bc94552f-4de3-4355-8258-469a39a7d026"
   },
   "execution_count": null,
   "outputs": [
    {
     "output_type": "display_data",
     "data": {
      "text/plain": [
       "<Figure size 1000x700 with 1 Axes>"
      ],
      "image/png": "[encoded data removed]"
     },
     "metadata": {}
    }
   ]
  },
  {
   "cell_type": "code",
   "source": [
    "auc(fpr, tpr)"
   ],
   "metadata": {
    "colab": {
     "base_uri": "https://localhost:8080/"
    },
    "id": "IJC_sDfLp2FW",
    "outputId": "a1ae9a69-6082-4904-badc-bbf78dc7d791"
   },
   "execution_count": null,
   "outputs": [
    {
     "output_type": "execute_result",
     "data": {
      "text/plain": [
       "0.7460931904177069"
      ]
     },
     "metadata": {},
     "execution_count": 23
    }
   ]
  },
  {
   "cell_type": "code",
   "source": [
    "accuracy_score(y_test, pred)"
   ],
   "metadata": {
    "colab": {
     "base_uri": "https://localhost:8080/"
    },
    "id": "DIWkAL6xp4-2",
    "outputId": "21cc0a03-cb9c-4484-c651-d13674de10ba"
   },
   "execution_count": null,
   "outputs": [
    {
     "output_type": "execute_result",
     "data": {
      "text/plain": [
       "0.7939384935373645"
      ]
     },
     "metadata": {},
     "execution_count": 24
    }
   ]
  },
  {
   "cell_type": "code",
   "source": [
    "from sklearn.metrics import accuracy_score, confusion_matrix, precision_recall_curve\n",
    "\n",
    "pd.DataFrame(\n",
    "confusion_matrix(y_test, pred, labels=[True, False]),\n",
    "columns=['Predicted: Open', 'Predicted: Closed'],\n",
    "index=['Actual: Open', 'Actual: Closed'])"
   ],
   "metadata": {
    "colab": {
     "base_uri": "https://localhost:8080/",
     "height": 112
    },
    "id": "O3JAWyf0IuZg",
    "outputId": "d8db2ab0-6c2a-4609-ae63-4e7455a34574"
   },
   "execution_count": null,
   "outputs": [
    {
     "output_type": "execute_result",
     "data": {
      "text/plain": [
       "                Predicted: Open  Predicted: Closed\n",
       "Actual: Open               4848                235\n",
       "Actual: Closed             1152                496"
      ],
      "text/html": [
       "\n",
       "\n",
       "  <div id=\"df-f2ab418e-31f6-4f23-9258-c1af5f8eb613\">\n",
       "    <div class=\"colab-df-container\">\n",
       "      <div>\n",
       "<style scoped>\n",
       "    .dataframe tbody tr th:only-of-type {\n",
       "        vertical-align: middle;\n",
       "    }\n",
       "\n",
       "    .dataframe tbody tr th {\n",
       "        vertical-align: top;\n",
       "    }\n",
       "\n",
       "    .dataframe thead th {\n",
       "        text-align: right;\n",
       "    }\n",
       "</style>\n",
       "<table border=\"1\" class=\"dataframe\">\n",
       "  <thead>\n",
       "    <tr style=\"text-align: right;\">\n",
       "      <th></th>\n",
       "      <th>Predicted: Open</th>\n",
       "      <th>Predicted: Closed</th>\n",
       "    </tr>\n",
       "  </thead>\n",
       "  <tbody>\n",
       "    <tr>\n",
       "      <th>Actual: Open</th>\n",
       "      <td>4848</td>\n",
       "      <td>235</td>\n",
       "    </tr>\n",
       "    <tr>\n",
       "      <th>Actual: Closed</th>\n",
       "      <td>1152</td>\n",
       "      <td>496</td>\n",
       "    </tr>\n",
       "  </tbody>\n",
       "</table>\n",
       "</div>\n",
       "      <button class=\"colab-df-convert\" onclick=\"convertToInteractive('df-f2ab418e-31f6-4f23-9258-c1af5f8eb613')\"\n",
       "              title=\"Convert this dataframe to an interactive table.\"\n",
       "              style=\"display:none;\">\n",
       "\n",
       "  <svg xmlns=\"http://www.w3.org/2000/svg\" height=\"24px\"viewBox=\"0 0 24 24\"\n",
       "       width=\"24px\">\n",
       "    <path d=\"M0 0h24v24H0V0z\" fill=\"none\"/>\n",
       "    <path d=\"M18.56 5.44l.94 2.06.94-2.06 2.06-.94-2.06-.94-.94-2.06-.94 2.06-2.06.94zm-11 1L8.5 8.5l.94-2.06 2.06-.94-2.06-.94L8.5 2.5l-.94 2.06-2.06.94zm10 10l.94 2.06.94-2.06 2.06-.94-2.06-.94-.94-2.06-.94 2.06-2.06.94z\"/><path d=\"M17.41 7.96l-1.37-1.37c-.4-.4-.92-.59-1.43-.59-.52 0-1.04.2-1.43.59L10.3 9.45l-7.72 7.72c-.78.78-.78 2.05 0 2.83L4 21.41c.39.39.9.59 1.41.59.51 0 1.02-.2 1.41-.59l7.78-7.78 2.81-2.81c.8-.78.8-2.07 0-2.86zM5.41 20L4 18.59l7.72-7.72 1.47 1.35L5.41 20z\"/>\n",
       "  </svg>\n",
       "      </button>\n",
       "\n",
       "\n",
       "\n",
       "    <div id=\"df-d305f69a-4c97-43b6-8ca2-d3360e7afe53\">\n",
       "      <button class=\"colab-df-quickchart\" onclick=\"quickchart('df-d305f69a-4c97-43b6-8ca2-d3360e7afe53')\"\n",
       "              title=\"Suggest charts.\"\n",
       "              style=\"display:none;\">\n",
       "\n",
       "<svg xmlns=\"http://www.w3.org/2000/svg\" height=\"24px\"viewBox=\"0 0 24 24\"\n",
       "     width=\"24px\">\n",
       "    <g>\n",
       "        <path d=\"M19 3H5c-1.1 0-2 .9-2 2v14c0 1.1.9 2 2 2h14c1.1 0 2-.9 2-2V5c0-1.1-.9-2-2-2zM9 17H7v-7h2v7zm4 0h-2V7h2v10zm4 0h-2v-4h2v4z\"/>\n",
       "    </g>\n",
       "</svg>\n",
       "      </button>\n",
       "    </div>\n",
       "\n",
       "<style>\n",
       "  .colab-df-quickchart {\n",
       "    background-color: #E8F0FE;\n",
       "    border: none;\n",
       "    border-radius: 50%;\n",
       "    cursor: pointer;\n",
       "    display: none;\n",
       "    fill: #1967D2;\n",
       "    height: 32px;\n",
       "    padding: 0 0 0 0;\n",
       "    width: 32px;\n",
       "  }\n",
       "\n",
       "  .colab-df-quickchart:hover {\n",
       "    background-color: #E2EBFA;\n",
       "    box-shadow: 0px 1px 2px rgba(60, 64, 67, 0.3), 0px 1px 3px 1px rgba(60, 64, 67, 0.15);\n",
       "    fill: #174EA6;\n",
       "  }\n",
       "\n",
       "  [theme=dark] .colab-df-quickchart {\n",
       "    background-color: #3B4455;\n",
       "    fill: #D2E3FC;\n",
       "  }\n",
       "\n",
       "  [theme=dark] .colab-df-quickchart:hover {\n",
       "    background-color: #434B5C;\n",
       "    box-shadow: 0px 1px 3px 1px rgba(0, 0, 0, 0.15);\n",
       "    filter: drop-shadow(0px 1px 2px rgba(0, 0, 0, 0.3));\n",
       "    fill: #FFFFFF;\n",
       "  }\n",
       "</style>\n",
       "\n",
       "    <script>\n",
       "      async function quickchart(key) {\n",
       "        const containerElement = document.querySelector('#' + key);\n",
       "        const charts = await google.colab.kernel.invokeFunction(\n",
       "            'suggestCharts', [key], {});\n",
       "      }\n",
       "    </script>\n",
       "\n",
       "      <script>\n",
       "\n",
       "function displayQuickchartButton(domScope) {\n",
       "  let quickchartButtonEl =\n",
       "    domScope.querySelector('#df-d305f69a-4c97-43b6-8ca2-d3360e7afe53 button.colab-df-quickchart');\n",
       "  quickchartButtonEl.style.display =\n",
       "    google.colab.kernel.accessAllowed ? 'block' : 'none';\n",
       "}\n",
       "\n",
       "        displayQuickchartButton(document);\n",
       "      </script>\n",
       "      <style>\n",
       "    .colab-df-container {\n",
       "      display:flex;\n",
       "      flex-wrap:wrap;\n",
       "      gap: 12px;\n",
       "    }\n",
       "\n",
       "    .colab-df-convert {\n",
       "      background-color: #E8F0FE;\n",
       "      border: none;\n",
       "      border-radius: 50%;\n",
       "      cursor: pointer;\n",
       "      display: none;\n",
       "      fill: #1967D2;\n",
       "      height: 32px;\n",
       "      padding: 0 0 0 0;\n",
       "      width: 32px;\n",
       "    }\n",
       "\n",
       "    .colab-df-convert:hover {\n",
       "      background-color: #E2EBFA;\n",
       "      box-shadow: 0px 1px 2px rgba(60, 64, 67, 0.3), 0px 1px 3px 1px rgba(60, 64, 67, 0.15);\n",
       "      fill: #174EA6;\n",
       "    }\n",
       "\n",
       "    [theme=dark] .colab-df-convert {\n",
       "      background-color: #3B4455;\n",
       "      fill: #D2E3FC;\n",
       "    }\n",
       "\n",
       "    [theme=dark] .colab-df-convert:hover {\n",
       "      background-color: #434B5C;\n",
       "      box-shadow: 0px 1px 3px 1px rgba(0, 0, 0, 0.15);\n",
       "      filter: drop-shadow(0px 1px 2px rgba(0, 0, 0, 0.3));\n",
       "      fill: #FFFFFF;\n",
       "    }\n",
       "  </style>\n",
       "\n",
       "      <script>\n",
       "        const buttonEl =\n",
       "          document.querySelector('#df-f2ab418e-31f6-4f23-9258-c1af5f8eb613 button.colab-df-convert');\n",
       "        buttonEl.style.display =\n",
       "          google.colab.kernel.accessAllowed ? 'block' : 'none';\n",
       "\n",
       "        async function convertToInteractive(key) {\n",
       "          const element = document.querySelector('#df-f2ab418e-31f6-4f23-9258-c1af5f8eb613');\n",
       "          const dataTable =\n",
       "            await google.colab.kernel.invokeFunction('convertToInteractive',\n",
       "                                                     [key], {});\n",
       "          if (!dataTable) return;\n",
       "\n",
       "          const docLinkHtml = 'Like what you see? Visit the ' +\n",
       "            '<a target=\"_blank\" href=https://colab.research.google.com/notebooks/data_table.ipynb>data table notebook</a>'\n",
       "            + ' to learn more about interactive tables.';\n",
       "          element.innerHTML = '';\n",
       "          dataTable['output_type'] = 'display_data';\n",
       "          await google.colab.output.renderOutput(dataTable, element);\n",
       "          const docLink = document.createElement('div');\n",
       "          docLink.innerHTML = docLinkHtml;\n",
       "          element.appendChild(docLink);\n",
       "        }\n",
       "      </script>\n",
       "    </div>\n",
       "  </div>\n"
      ]
     },
     "metadata": {},
     "execution_count": 25
    }
   ]
  },
  {
   "cell_type": "code",
   "source": [
    "from sklearn.model_selection import GridSearchCV"
   ],
   "metadata": {
    "id": "LIjWLcEXrqs7"
   },
   "execution_count": null,
   "outputs": []
  },
  {
   "cell_type": "code",
   "source": [
    "from sklearn.ensemble import StackingClassifier\n",
    "from sklearn.tree import DecisionTreeClassifier\n",
    "from sklearn.ensemble import RandomForestClassifier\n",
    "from sklearn.ensemble import GradientBoostingClassifier\n",
    "from sklearn.linear_model import LogisticRegression\n",
    "\n",
    "estimators = [(\"DT\", DecisionTreeClassifier()),\n",
    "              (\"RF\", RandomForestClassifier()),\n",
    "              (\"GBDT\", GradientBoostingClassifier()),\n",
    "              (\"LR\", LogisticRegression())\n",
    "             ]"
   ],
   "metadata": {
    "id": "dOasyzRGp5Qv"
   },
   "execution_count": null,
   "outputs": []
  },
  {
   "cell_type": "code",
   "source": [
    "stacking_model = StackingClassifier(estimators=estimators,cv=5,passthrough=False)"
   ],
   "metadata": {
    "id": "ni4TVrBNp9pd"
   },
   "execution_count": null,
   "outputs": []
  },
  {
   "cell_type": "code",
   "source": [
    "params = {\n",
    "    \"DT__max_depth\": [8, 16],\n",
    "    \"GBDT__n_estimators\":[100,300],\n",
    "    \"RF__min_samples_split\":[2,5,10]\n",
    "}\n",
    "\n",
    "stack_grid = GridSearchCV(stacking_model, params, cv=3, verbose=4, scoring='accuracy', refit=True, n_jobs=-1)\n",
    "stack_grid.fit(X_train, y_train)\n",
    "print(stack_grid.best_params_)"
   ],
   "metadata": {
    "colab": {
     "base_uri": "https://localhost:8080/"
    },
    "id": "lgsdqHEYr6Z5",
    "outputId": "7a24d8ff-ed2d-4039-85e6-532285178b2e"
   },
   "execution_count": null,
   "outputs": [
    {
     "output_type": "stream",
     "name": "stdout",
     "text": [
      "Fitting 3 folds for each of 12 candidates, totalling 36 fits\n"
     ]
    },
    {
     "output_type": "stream",
     "name": "stderr",
     "text": [
      "/usr/local/lib/python3.10/dist-packages/sklearn/linear_model/_logistic.py:458: ConvergenceWarning: lbfgs failed to converge (status=1):\n",
      "STOP: TOTAL NO. of ITERATIONS REACHED LIMIT.\n",
      "\n",
      "Increase the number of iterations (max_iter) or scale the data as shown in:\n",
      "    https://scikit-learn.org/stable/modules/preprocessing.html\n",
      "Please also refer to the documentation for alternative solver options:\n",
      "    https://scikit-learn.org/stable/modules/linear_model.html#logistic-regression\n",
      "  n_iter_i = _check_optimize_result(\n",
      "/usr/local/lib/python3.10/dist-packages/sklearn/linear_model/_logistic.py:458: ConvergenceWarning: lbfgs failed to converge (status=1):\n",
      "STOP: TOTAL NO. of ITERATIONS REACHED LIMIT.\n",
      "\n",
      "Increase the number of iterations (max_iter) or scale the data as shown in:\n",
      "    https://scikit-learn.org/stable/modules/preprocessing.html\n",
      "Please also refer to the documentation for alternative solver options:\n",
      "    https://scikit-learn.org/stable/modules/linear_model.html#logistic-regression\n",
      "  n_iter_i = _check_optimize_result(\n",
      "/usr/local/lib/python3.10/dist-packages/sklearn/linear_model/_logistic.py:458: ConvergenceWarning: lbfgs failed to converge (status=1):\n",
      "STOP: TOTAL NO. of ITERATIONS REACHED LIMIT.\n",
      "\n",
      "Increase the number of iterations (max_iter) or scale the data as shown in:\n",
      "    https://scikit-learn.org/stable/modules/preprocessing.html\n",
      "Please also refer to the documentation for alternative solver options:\n",
      "    https://scikit-learn.org/stable/modules/linear_model.html#logistic-regression\n",
      "  n_iter_i = _check_optimize_result(\n",
      "/usr/local/lib/python3.10/dist-packages/sklearn/linear_model/_logistic.py:458: ConvergenceWarning: lbfgs failed to converge (status=1):\n",
      "STOP: TOTAL NO. of ITERATIONS REACHED LIMIT.\n",
      "\n",
      "Increase the number of iterations (max_iter) or scale the data as shown in:\n",
      "    https://scikit-learn.org/stable/modules/preprocessing.html\n",
      "Please also refer to the documentation for alternative solver options:\n",
      "    https://scikit-learn.org/stable/modules/linear_model.html#logistic-regression\n",
      "  n_iter_i = _check_optimize_result(\n",
      "/usr/local/lib/python3.10/dist-packages/sklearn/linear_model/_logistic.py:458: ConvergenceWarning: lbfgs failed to converge (status=1):\n",
      "STOP: TOTAL NO. of ITERATIONS REACHED LIMIT.\n",
      "\n",
      "Increase the number of iterations (max_iter) or scale the data as shown in:\n",
      "    https://scikit-learn.org/stable/modules/preprocessing.html\n",
      "Please also refer to the documentation for alternative solver options:\n",
      "    https://scikit-learn.org/stable/modules/linear_model.html#logistic-regression\n",
      "  n_iter_i = _check_optimize_result(\n"
     ]
    },
    {
     "output_type": "stream",
     "name": "stdout",
     "text": [
      "{'DT__max_depth': 8, 'GBDT__n_estimators': 100, 'RF__min_samples_split': 2}\n"
     ]
    },
    {
     "output_type": "stream",
     "name": "stderr",
     "text": [
      "/usr/local/lib/python3.10/dist-packages/sklearn/linear_model/_logistic.py:458: ConvergenceWarning: lbfgs failed to converge (status=1):\n",
      "STOP: TOTAL NO. of ITERATIONS REACHED LIMIT.\n",
      "\n",
      "Increase the number of iterations (max_iter) or scale the data as shown in:\n",
      "    https://scikit-learn.org/stable/modules/preprocessing.html\n",
      "Please also refer to the documentation for alternative solver options:\n",
      "    https://scikit-learn.org/stable/modules/linear_model.html#logistic-regression\n",
      "  n_iter_i = _check_optimize_result(\n"
     ]
    }
   ]
  },
  {
   "cell_type": "code",
   "source": [
    "print(stack_grid.best_params_)"
   ],
   "metadata": {
    "colab": {
     "base_uri": "https://localhost:8080/"
    },
    "id": "sIjjJk91FGHp",
    "outputId": "5aee2c8b-d128-4996-8295-24efada8aad1"
   },
   "execution_count": null,
   "outputs": [
    {
     "output_type": "stream",
     "name": "stdout",
     "text": [
      "{'DT__max_depth': 8, 'GBDT__n_estimators': 100, 'RF__min_samples_split': 2}\n"
     ]
    }
   ]
  },
  {
   "cell_type": "code",
   "source": [
    "best_estimators = [(\"DT\", DecisionTreeClassifier(max_depth=stack_grid.best_params_['DT__max_depth'])),\n",
    "              (\"RF\", RandomForestClassifier(min_samples_split=stack_grid.best_params_['RF__min_samples_split'])),\n",
    "              (\"GBDT\", GradientBoostingClassifier(n_estimators=stack_grid.best_params_['GBDT__n_estimators'])),\n",
    "              (\"LR\", LogisticRegression())\n",
    "             ]\n",
    "\n",
    "best_stacking_model = StackingClassifier(estimators=best_estimators,cv=5,passthrough=False)\n",
    "best_stacking_model.fit(X_train,y_train)\n",
    "ensemble_pred = best_stacking_model.predict(X_test)\n",
    "ensemble_prob = best_stacking_model.predict_proba(X_test)[:,1]"
   ],
   "metadata": {
    "colab": {
     "base_uri": "https://localhost:8080/"
    },
    "id": "wda6-8ndv7IV",
    "outputId": "9cbef08a-31e4-42e2-a2e4-5ab8a6d2dce5"
   },
   "execution_count": null,
   "outputs": [
    {
     "output_type": "stream",
     "name": "stderr",
     "text": [
      "/usr/local/lib/python3.10/dist-packages/sklearn/linear_model/_logistic.py:458: ConvergenceWarning: lbfgs failed to converge (status=1):\n",
      "STOP: TOTAL NO. of ITERATIONS REACHED LIMIT.\n",
      "\n",
      "Increase the number of iterations (max_iter) or scale the data as shown in:\n",
      "    https://scikit-learn.org/stable/modules/preprocessing.html\n",
      "Please also refer to the documentation for alternative solver options:\n",
      "    https://scikit-learn.org/stable/modules/linear_model.html#logistic-regression\n",
      "  n_iter_i = _check_optimize_result(\n",
      "/usr/local/lib/python3.10/dist-packages/sklearn/linear_model/_logistic.py:458: ConvergenceWarning: lbfgs failed to converge (status=1):\n",
      "STOP: TOTAL NO. of ITERATIONS REACHED LIMIT.\n",
      "\n",
      "Increase the number of iterations (max_iter) or scale the data as shown in:\n",
      "    https://scikit-learn.org/stable/modules/preprocessing.html\n",
      "Please also refer to the documentation for alternative solver options:\n",
      "    https://scikit-learn.org/stable/modules/linear_model.html#logistic-regression\n",
      "  n_iter_i = _check_optimize_result(\n",
      "/usr/local/lib/python3.10/dist-packages/sklearn/linear_model/_logistic.py:458: ConvergenceWarning: lbfgs failed to converge (status=1):\n",
      "STOP: TOTAL NO. of ITERATIONS REACHED LIMIT.\n",
      "\n",
      "Increase the number of iterations (max_iter) or scale the data as shown in:\n",
      "    https://scikit-learn.org/stable/modules/preprocessing.html\n",
      "Please also refer to the documentation for alternative solver options:\n",
      "    https://scikit-learn.org/stable/modules/linear_model.html#logistic-regression\n",
      "  n_iter_i = _check_optimize_result(\n",
      "/usr/local/lib/python3.10/dist-packages/sklearn/linear_model/_logistic.py:458: ConvergenceWarning: lbfgs failed to converge (status=1):\n",
      "STOP: TOTAL NO. of ITERATIONS REACHED LIMIT.\n",
      "\n",
      "Increase the number of iterations (max_iter) or scale the data as shown in:\n",
      "    https://scikit-learn.org/stable/modules/preprocessing.html\n",
      "Please also refer to the documentation for alternative solver options:\n",
      "    https://scikit-learn.org/stable/modules/linear_model.html#logistic-regression\n",
      "  n_iter_i = _check_optimize_result(\n",
      "/usr/local/lib/python3.10/dist-packages/sklearn/linear_model/_logistic.py:458: ConvergenceWarning: lbfgs failed to converge (status=1):\n",
      "STOP: TOTAL NO. of ITERATIONS REACHED LIMIT.\n",
      "\n",
      "Increase the number of iterations (max_iter) or scale the data as shown in:\n",
      "    https://scikit-learn.org/stable/modules/preprocessing.html\n",
      "Please also refer to the documentation for alternative solver options:\n",
      "    https://scikit-learn.org/stable/modules/linear_model.html#logistic-regression\n",
      "  n_iter_i = _check_optimize_result(\n",
      "/usr/local/lib/python3.10/dist-packages/sklearn/linear_model/_logistic.py:458: ConvergenceWarning: lbfgs failed to converge (status=1):\n",
      "STOP: TOTAL NO. of ITERATIONS REACHED LIMIT.\n",
      "\n",
      "Increase the number of iterations (max_iter) or scale the data as shown in:\n",
      "    https://scikit-learn.org/stable/modules/preprocessing.html\n",
      "Please also refer to the documentation for alternative solver options:\n",
      "    https://scikit-learn.org/stable/modules/linear_model.html#logistic-regression\n",
      "  n_iter_i = _check_optimize_result(\n"
     ]
    }
   ]
  },
  {
   "cell_type": "code",
   "source": [
    "fpr, tpr, thresholds = roc_curve(y_test,ensemble_prob)\n",
    "\n",
    "fig = plt.figure()\n",
    "ax = fig.add_subplot(111)\n",
    "sns.lineplot(x=fpr, y=tpr, marker = 'o')\n",
    "plt.title(\"Receiver operating characteristic (ROC) curve\")\n",
    "plt.xlabel(\"False positive rate\")\n",
    "plt.ylabel(\"True positive rate\")\n",
    "#plt.legend(['RF with 20 estimators', 'RF with 100 estimators'])\n",
    "plt.show()"
   ],
   "metadata": {
    "colab": {
     "base_uri": "https://localhost:8080/",
     "height": 958
    },
    "id": "kEzpVj4oA5u0",
    "outputId": "886b9673-133c-4065-ff9a-51a5bda32e51"
   },
   "execution_count": null,
   "outputs": [
    {
     "output_type": "display_data",
     "data": {
      "text/plain": [
       "<Figure size 1300x1100 with 1 Axes>"
      ],
      "image/png": "[encoded data removed]"
     },
     "metadata": {}
    }
   ]
  },
  {
   "cell_type": "code",
   "source": [
    "auc(fpr, tpr)"
   ],
   "metadata": {
    "colab": {
     "base_uri": "https://localhost:8080/"
    },
    "id": "9iaGwcvJA6g-",
    "outputId": "489c4844-42ca-4753-d30d-cfa733c9c728"
   },
   "execution_count": null,
   "outputs": [
    {
     "output_type": "execute_result",
     "data": {
      "text/plain": [
       "0.9711063847982231"
      ]
     },
     "metadata": {},
     "execution_count": 124
    }
   ]
  },
  {
   "cell_type": "code",
   "source": [
    "accuracy_score(y_test, ensemble_pred)"
   ],
   "metadata": {
    "colab": {
     "base_uri": "https://localhost:8080/"
    },
    "id": "f477Sf-TA6kp",
    "outputId": "4f6c22fd-c470-4a34-fa35-6ef64d9a8b19"
   },
   "execution_count": null,
   "outputs": [
    {
     "output_type": "execute_result",
     "data": {
      "text/plain": [
       "0.9339585775693631"
      ]
     },
     "metadata": {},
     "execution_count": 125
    }
   ]
  },
  {
   "cell_type": "code",
   "source": [
    "from sklearn.metrics import accuracy_score, confusion_matrix, precision_recall_curve\n",
    "\n",
    "pd.DataFrame(\n",
    "confusion_matrix(y_test, ensemble_pred, labels=[True, False]),\n",
    "columns=['Predicted: Open', 'Predicted: Closed'],\n",
    "index=['Actual: Open', 'Actual: Closed'])"
   ],
   "metadata": {
    "colab": {
     "base_uri": "https://localhost:8080/",
     "height": 112
    },
    "id": "LvHhYqwtsQyU",
    "outputId": "81f010b2-6e55-4879-de74-622b6911fb19"
   },
   "execution_count": null,
   "outputs": [
    {
     "output_type": "execute_result",
     "data": {
      "text/plain": [
       "                Predicted: Open  Predicted: Closed\n",
       "Actual: Open               4844                262\n",
       "Actual: Closed              414               4716"
      ],
      "text/html": [
       "\n",
       "\n",
       "  <div id=\"df-27c9b1f4-2aad-45e3-903c-d19a8f67728a\">\n",
       "    <div class=\"colab-df-container\">\n",
       "      <div>\n",
       "<style scoped>\n",
       "    .dataframe tbody tr th:only-of-type {\n",
       "        vertical-align: middle;\n",
       "    }\n",
       "\n",
       "    .dataframe tbody tr th {\n",
       "        vertical-align: top;\n",
       "    }\n",
       "\n",
       "    .dataframe thead th {\n",
       "        text-align: right;\n",
       "    }\n",
       "</style>\n",
       "<table border=\"1\" class=\"dataframe\">\n",
       "  <thead>\n",
       "    <tr style=\"text-align: right;\">\n",
       "      <th></th>\n",
       "      <th>Predicted: Open</th>\n",
       "      <th>Predicted: Closed</th>\n",
       "    </tr>\n",
       "  </thead>\n",
       "  <tbody>\n",
       "    <tr>\n",
       "      <th>Actual: Open</th>\n",
       "      <td>4844</td>\n",
       "      <td>262</td>\n",
       "    </tr>\n",
       "    <tr>\n",
       "      <th>Actual: Closed</th>\n",
       "      <td>414</td>\n",
       "      <td>4716</td>\n",
       "    </tr>\n",
       "  </tbody>\n",
       "</table>\n",
       "</div>\n",
       "      <button class=\"colab-df-convert\" onclick=\"convertToInteractive('df-27c9b1f4-2aad-45e3-903c-d19a8f67728a')\"\n",
       "              title=\"Convert this dataframe to an interactive table.\"\n",
       "              style=\"display:none;\">\n",
       "\n",
       "  <svg xmlns=\"http://www.w3.org/2000/svg\" height=\"24px\"viewBox=\"0 0 24 24\"\n",
       "       width=\"24px\">\n",
       "    <path d=\"M0 0h24v24H0V0z\" fill=\"none\"/>\n",
       "    <path d=\"M18.56 5.44l.94 2.06.94-2.06 2.06-.94-2.06-.94-.94-2.06-.94 2.06-2.06.94zm-11 1L8.5 8.5l.94-2.06 2.06-.94-2.06-.94L8.5 2.5l-.94 2.06-2.06.94zm10 10l.94 2.06.94-2.06 2.06-.94-2.06-.94-.94-2.06-.94 2.06-2.06.94z\"/><path d=\"M17.41 7.96l-1.37-1.37c-.4-.4-.92-.59-1.43-.59-.52 0-1.04.2-1.43.59L10.3 9.45l-7.72 7.72c-.78.78-.78 2.05 0 2.83L4 21.41c.39.39.9.59 1.41.59.51 0 1.02-.2 1.41-.59l7.78-7.78 2.81-2.81c.8-.78.8-2.07 0-2.86zM5.41 20L4 18.59l7.72-7.72 1.47 1.35L5.41 20z\"/>\n",
       "  </svg>\n",
       "      </button>\n",
       "\n",
       "\n",
       "\n",
       "    <div id=\"df-b6a815b1-cc8b-4280-a25c-4dae628e012b\">\n",
       "      <button class=\"colab-df-quickchart\" onclick=\"quickchart('df-b6a815b1-cc8b-4280-a25c-4dae628e012b')\"\n",
       "              title=\"Suggest charts.\"\n",
       "              style=\"display:none;\">\n",
       "\n",
       "<svg xmlns=\"http://www.w3.org/2000/svg\" height=\"24px\"viewBox=\"0 0 24 24\"\n",
       "     width=\"24px\">\n",
       "    <g>\n",
       "        <path d=\"M19 3H5c-1.1 0-2 .9-2 2v14c0 1.1.9 2 2 2h14c1.1 0 2-.9 2-2V5c0-1.1-.9-2-2-2zM9 17H7v-7h2v7zm4 0h-2V7h2v10zm4 0h-2v-4h2v4z\"/>\n",
       "    </g>\n",
       "</svg>\n",
       "      </button>\n",
       "    </div>\n",
       "\n",
       "<style>\n",
       "  .colab-df-quickchart {\n",
       "    background-color: #E8F0FE;\n",
       "    border: none;\n",
       "    border-radius: 50%;\n",
       "    cursor: pointer;\n",
       "    display: none;\n",
       "    fill: #1967D2;\n",
       "    height: 32px;\n",
       "    padding: 0 0 0 0;\n",
       "    width: 32px;\n",
       "  }\n",
       "\n",
       "  .colab-df-quickchart:hover {\n",
       "    background-color: #E2EBFA;\n",
       "    box-shadow: 0px 1px 2px rgba(60, 64, 67, 0.3), 0px 1px 3px 1px rgba(60, 64, 67, 0.15);\n",
       "    fill: #174EA6;\n",
       "  }\n",
       "\n",
       "  [theme=dark] .colab-df-quickchart {\n",
       "    background-color: #3B4455;\n",
       "    fill: #D2E3FC;\n",
       "  }\n",
       "\n",
       "  [theme=dark] .colab-df-quickchart:hover {\n",
       "    background-color: #434B5C;\n",
       "    box-shadow: 0px 1px 3px 1px rgba(0, 0, 0, 0.15);\n",
       "    filter: drop-shadow(0px 1px 2px rgba(0, 0, 0, 0.3));\n",
       "    fill: #FFFFFF;\n",
       "  }\n",
       "</style>\n",
       "\n",
       "    <script>\n",
       "      async function quickchart(key) {\n",
       "        const containerElement = document.querySelector('#' + key);\n",
       "        const charts = await google.colab.kernel.invokeFunction(\n",
       "            'suggestCharts', [key], {});\n",
       "      }\n",
       "    </script>\n",
       "\n",
       "      <script>\n",
       "\n",
       "function displayQuickchartButton(domScope) {\n",
       "  let quickchartButtonEl =\n",
       "    domScope.querySelector('#df-b6a815b1-cc8b-4280-a25c-4dae628e012b button.colab-df-quickchart');\n",
       "  quickchartButtonEl.style.display =\n",
       "    google.colab.kernel.accessAllowed ? 'block' : 'none';\n",
       "}\n",
       "\n",
       "        displayQuickchartButton(document);\n",
       "      </script>\n",
       "      <style>\n",
       "    .colab-df-container {\n",
       "      display:flex;\n",
       "      flex-wrap:wrap;\n",
       "      gap: 12px;\n",
       "    }\n",
       "\n",
       "    .colab-df-convert {\n",
       "      background-color: #E8F0FE;\n",
       "      border: none;\n",
       "      border-radius: 50%;\n",
       "      cursor: pointer;\n",
       "      display: none;\n",
       "      fill: #1967D2;\n",
       "      height: 32px;\n",
       "      padding: 0 0 0 0;\n",
       "      width: 32px;\n",
       "    }\n",
       "\n",
       "    .colab-df-convert:hover {\n",
       "      background-color: #E2EBFA;\n",
       "      box-shadow: 0px 1px 2px rgba(60, 64, 67, 0.3), 0px 1px 3px 1px rgba(60, 64, 67, 0.15);\n",
       "      fill: #174EA6;\n",
       "    }\n",
       "\n",
       "    [theme=dark] .colab-df-convert {\n",
       "      background-color: #3B4455;\n",
       "      fill: #D2E3FC;\n",
       "    }\n",
       "\n",
       "    [theme=dark] .colab-df-convert:hover {\n",
       "      background-color: #434B5C;\n",
       "      box-shadow: 0px 1px 3px 1px rgba(0, 0, 0, 0.15);\n",
       "      filter: drop-shadow(0px 1px 2px rgba(0, 0, 0, 0.3));\n",
       "      fill: #FFFFFF;\n",
       "    }\n",
       "  </style>\n",
       "\n",
       "      <script>\n",
       "        const buttonEl =\n",
       "          document.querySelector('#df-27c9b1f4-2aad-45e3-903c-d19a8f67728a button.colab-df-convert');\n",
       "        buttonEl.style.display =\n",
       "          google.colab.kernel.accessAllowed ? 'block' : 'none';\n",
       "\n",
       "        async function convertToInteractive(key) {\n",
       "          const element = document.querySelector('#df-27c9b1f4-2aad-45e3-903c-d19a8f67728a');\n",
       "          const dataTable =\n",
       "            await google.colab.kernel.invokeFunction('convertToInteractive',\n",
       "                                                     [key], {});\n",
       "          if (!dataTable) return;\n",
       "\n",
       "          const docLinkHtml = 'Like what you see? Visit the ' +\n",
       "            '<a target=\"_blank\" href=https://colab.research.google.com/notebooks/data_table.ipynb>data table notebook</a>'\n",
       "            + ' to learn more about interactive tables.';\n",
       "          element.innerHTML = '';\n",
       "          dataTable['output_type'] = 'display_data';\n",
       "          await google.colab.output.renderOutput(dataTable, element);\n",
       "          const docLink = document.createElement('div');\n",
       "          docLink.innerHTML = docLinkHtml;\n",
       "          element.appendChild(docLink);\n",
       "        }\n",
       "      </script>\n",
       "    </div>\n",
       "  </div>\n"
      ]
     },
     "metadata": {},
     "execution_count": 127
    }
   ]
  },
  {
   "cell_type": "code",
   "source": [
    "precision_ensemble, recall_ensemble, thresholds_ensemble = precision_recall_curve(y_test,ensemble_prob)\n",
    "precision_rf, recall_rf, thresholds_rf = precision_recall_curve(y_test,prob)\n",
    "\n",
    "fig = plt.figure()\n",
    "ax = fig.add_subplot(111)\n",
    "sns.lineplot (x=recall_ensemble, y=precision_ensemble, color = 'green')\n",
    "sns.lineplot (x=recall_rf, y=precision_rf, color = 'red')\n",
    "\n",
    "\n",
    "plt.title('Precision-recall curve')\n",
    "plt.xlabel('Recall')\n",
    "plt.ylabel('Precision')\n",
    "plt.show()"
   ],
   "metadata": {
    "colab": {
     "base_uri": "https://localhost:8080/",
     "height": 958
    },
    "id": "qf3lIIJLu1MT",
    "outputId": "eb2d83a7-f94a-4041-d407-8c07195efa38"
   },
   "execution_count": null,
   "outputs": [
    {
     "output_type": "display_data",
     "data": {
      "text/plain": [
       "<Figure size 1300x1100 with 1 Axes>"
      ],
      "image/png": "[encoded data removed]"
     },
     "metadata": {}
    }
   ]
  },
  {
   "cell_type": "code",
   "source": [],
   "metadata": {
    "id": "Oxp3kA0Pvo_H"
   },
   "execution_count": null,
   "outputs": []
  }
 ]
}
