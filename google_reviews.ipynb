{
 "cells": [
  {
   "cell_type": "code",
   "execution_count": 15,
   "metadata": {
    "collapsed": true,
    "ExecuteTime": {
     "end_time": "2023-07-27T23:18:21.942416Z",
     "start_time": "2023-07-27T23:18:21.938119Z"
    }
   },
   "outputs": [],
   "source": [
    "import json\n",
    "import gzip\n",
    "import pandas as pd\n",
    "\n",
    "\n",
    "def parse(path):\n",
    "    g = gzip.open(path, 'r')\n",
    "    for l in g:\n",
    "        yield json.loads(l)\n"
   ]
  },
  {
   "cell_type": "code",
   "execution_count": 27,
   "outputs": [
    {
     "data": {
      "text/plain": "                                       business                   user  \\\n0         0x89c24469c758686b:0x641f5b84cb9bedfa  101855823232666695168   \n1         0x89c24469c758686b:0x641f5b84cb9bedfa  105821946869087882225   \n2         0x89c24469c758686b:0x641f5b84cb9bedfa  108990883320903443748   \n3         0x89c24469c758686b:0x641f5b84cb9bedfa  117021514778630212205   \n4           0x89c25fc9494dce47:0x6d63c807b59a55  113722104692308235141   \n...                                         ...                    ...   \n33277576  0x89dcdb488da77e51:0x4d6096d8783e8f2f  102302492474618468998   \n33277577  0x89dcdb488da77e51:0x4d6096d8783e8f2f  108701386259740623947   \n33277578  0x89dcdb488da77e51:0x4d6096d8783e8f2f  104699500456726527488   \n33277579  0x89dcdb488da77e51:0x4d6096d8783e8f2f  114351615402056294252   \n33277580  0x89dcdb488da77e51:0x4d6096d8783e8f2f  100992802931369840213   \n\n          rating      timestamp  \n0              1  1629141186463  \n1              1  1528477593994  \n2              1  1424830512308  \n3              5  1512641660497  \n4              5  1603494795361  \n...          ...            ...  \n33277576       4  1557089882778  \n33277577       1  1533247737771  \n33277578       4  1578511155115  \n33277579       4  1569762579494  \n33277580       4  1528596599611  \n\n[33277581 rows x 4 columns]",
      "text/html": "<div>\n<style scoped>\n    .dataframe tbody tr th:only-of-type {\n        vertical-align: middle;\n    }\n\n    .dataframe tbody tr th {\n        vertical-align: top;\n    }\n\n    .dataframe thead th {\n        text-align: right;\n    }\n</style>\n<table border=\"1\" class=\"dataframe\">\n  <thead>\n    <tr style=\"text-align: right;\">\n      <th></th>\n      <th>business</th>\n      <th>user</th>\n      <th>rating</th>\n      <th>timestamp</th>\n    </tr>\n  </thead>\n  <tbody>\n    <tr>\n      <th>0</th>\n      <td>0x89c24469c758686b:0x641f5b84cb9bedfa</td>\n      <td>101855823232666695168</td>\n      <td>1</td>\n      <td>1629141186463</td>\n    </tr>\n    <tr>\n      <th>1</th>\n      <td>0x89c24469c758686b:0x641f5b84cb9bedfa</td>\n      <td>105821946869087882225</td>\n      <td>1</td>\n      <td>1528477593994</td>\n    </tr>\n    <tr>\n      <th>2</th>\n      <td>0x89c24469c758686b:0x641f5b84cb9bedfa</td>\n      <td>108990883320903443748</td>\n      <td>1</td>\n      <td>1424830512308</td>\n    </tr>\n    <tr>\n      <th>3</th>\n      <td>0x89c24469c758686b:0x641f5b84cb9bedfa</td>\n      <td>117021514778630212205</td>\n      <td>5</td>\n      <td>1512641660497</td>\n    </tr>\n    <tr>\n      <th>4</th>\n      <td>0x89c25fc9494dce47:0x6d63c807b59a55</td>\n      <td>113722104692308235141</td>\n      <td>5</td>\n      <td>1603494795361</td>\n    </tr>\n    <tr>\n      <th>...</th>\n      <td>...</td>\n      <td>...</td>\n      <td>...</td>\n      <td>...</td>\n    </tr>\n    <tr>\n      <th>33277576</th>\n      <td>0x89dcdb488da77e51:0x4d6096d8783e8f2f</td>\n      <td>102302492474618468998</td>\n      <td>4</td>\n      <td>1557089882778</td>\n    </tr>\n    <tr>\n      <th>33277577</th>\n      <td>0x89dcdb488da77e51:0x4d6096d8783e8f2f</td>\n      <td>108701386259740623947</td>\n      <td>1</td>\n      <td>1533247737771</td>\n    </tr>\n    <tr>\n      <th>33277578</th>\n      <td>0x89dcdb488da77e51:0x4d6096d8783e8f2f</td>\n      <td>104699500456726527488</td>\n      <td>4</td>\n      <td>1578511155115</td>\n    </tr>\n    <tr>\n      <th>33277579</th>\n      <td>0x89dcdb488da77e51:0x4d6096d8783e8f2f</td>\n      <td>114351615402056294252</td>\n      <td>4</td>\n      <td>1569762579494</td>\n    </tr>\n    <tr>\n      <th>33277580</th>\n      <td>0x89dcdb488da77e51:0x4d6096d8783e8f2f</td>\n      <td>100992802931369840213</td>\n      <td>4</td>\n      <td>1528596599611</td>\n    </tr>\n  </tbody>\n</table>\n<p>33277581 rows × 4 columns</p>\n</div>"
     },
     "execution_count": 27,
     "metadata": {},
     "output_type": "execute_result"
    }
   ],
   "source": [
    "\n",
    "data = pd.read_csv(\"../data/rating-New_York.csv.gz\", compression='gzip', )\n",
    "data\n"
   ],
   "metadata": {
    "collapsed": false,
    "ExecuteTime": {
     "end_time": "2023-07-27T23:31:38.327543Z",
     "start_time": "2023-07-27T23:30:59.513998Z"
    }
   }
  },
  {
   "cell_type": "code",
   "execution_count": 26,
   "outputs": [
    {
     "data": {
      "text/plain": "                                          name  \\\n0                              A-Top Insurance   \n1                                     T-Mobile   \n2                                 Ace Hardware   \n3       Agricultural Consulting Services, Inc.   \n4                                   Long Point   \n...                                        ...   \n272184                         65 Market Place   \n272185                           Anthropologie   \n272186                 Resorts World Catskills   \n272187        Flaming Grill and Supreme Buffet   \n272188      Honor's Haven Retreat & Conference   \n\n                                                  address  \\\n0       A-Top Insurance, 1009 Brighton Beach Ave, Broo...   \n1               T-Mobile, 3923 103rd St, Queens, NY 11368   \n2           Ace Hardware, 130 4th Ave, New York, NY 10003   \n3       Agricultural Consulting Services, Inc., 370 Su...   \n4                           Long Point, Ledyard, NY 13026   \n...                                                   ...   \n272184   65 Market Place, 65 Broadway, New York, NY 10006   \n272185    Anthropologie, 195 Broadway, New York, NY 10007   \n272186  Resorts World Catskills, 888 Resorts World Dr,...   \n272187  Flaming Grill and Supreme Buffet, 1773 Grand A...   \n272188  Honor's Haven Retreat & Conference, 1195 Arrow...   \n\n                                      gmap_id  \\\n0       0x89c24469c758686b:0x641f5b84cb9bedfa   \n1         0x89c25fc9494dce47:0x6d63c807b59a55   \n2       0x89c259992463b6e1:0x4a601a43752541dd   \n3       0x89d14bf74320aea5:0x720261cd8960f8cd   \n4       0x89d0bd8d2df8d10f:0x77a8f349f40492fa   \n...                                       ...   \n272184  0x89c25bdb104613e5:0xb5050c2be5ed435d   \n272185  0x89c25a1835535f49:0x4c91183c04ffd4f3   \n272186  0x89dcb771077bae39:0x5356a2493ed42159   \n272187  0x89c27c873d368157:0x204c342943561b5f   \n272188  0x89dcdb488da77e51:0x4d6096d8783e8f2f   \n\n                                              description   latitude  \\\n0                                                    None  40.578254   \n1                                                    None  40.750146   \n2       Chain retailer stocking household tools, suppl...  40.733182   \n3                                                    None  43.054743   \n4                                                    None  42.715626   \n...                                                   ...        ...   \n272184                                               None  40.707176   \n272185  Chain selling boho-chic womenswear, shoes, acc...  40.710535   \n272186                                               None  41.659053   \n272187  Strip-mall eatery with an extensive buffet of ...  40.667538   \n272188  Lakeside 200-acre resort with casual rooms & s...  41.700687   \n\n        longitude                                           category  \\\n0      -73.959127               [Insurance broker, Insurance agency]   \n1      -73.862536  [Cell phone store, Electronic parts supplier, ...   \n2      -73.990201  [Hardware store, Building materials store, Ele...   \n3      -77.649136                                 [Corporate office]   \n4      -76.710227                                        [Peninsula]   \n...           ...                                                ...   \n272184 -74.012409                                [Buffet restaurant]   \n272185 -74.009543  [Women's clothing store, Beauty supply store, ...   \n272186 -74.649042                      [Casino, Hotel, Resort hotel]   \n272187 -73.607521                               [Seafood restaurant]   \n272188 -74.400337                                            [Hotel]   \n\n        avg_rating  num_of_reviews price  \\\n0              2.0               4  None   \n1              3.5              95    $$   \n2              3.4               8  None   \n3              3.0               1  None   \n4              5.0               1  None   \n...            ...             ...   ...   \n272184         4.1             128    $$   \n272185         4.4             158   $$$   \n272186         3.8            4858  None   \n272187         4.3            2964     $   \n272188         4.0             668  None   \n\n                                                    hours  \\\n0       [[Thursday, 10AM–6PM], [Friday, 10AM–6PM], [Sa...   \n1       [[Thursday, 10AM–8PM], [Friday, 10AM–8PM], [Sa...   \n2       [[Thursday, 8AM–6:30PM], [Friday, 8AM–6:30PM],...   \n3       [[Thursday, 9AM–5PM], [Friday, 9AM–5PM], [Satu...   \n4                                                    None   \n...                                                   ...   \n272184  [[Wednesday, 6AM–9PM], [Thursday, 6AM–9PM], [F...   \n272185  [[Wednesday, 10AM–6PM], [Thursday, 10AM–6PM], ...   \n272186                                               None   \n272187  [[Wednesday, 11AM–8:30PM], [Thursday, 11AM–8:3...   \n272188                                               None   \n\n                                                     MISC               state  \\\n0                                                    None   Open ⋅ Closes 6PM   \n1       {'Service options': ['In-store shopping', 'Del...   Open ⋅ Closes 8PM   \n2                                                    None  Permanently closed   \n3                                                    None   Open ⋅ Closes 5PM   \n4                                                    None                None   \n...                                                   ...                 ...   \n272184  {'Service options': ['Takeout', 'Dine-in'], 'H...                 NaN   \n272185  {'Service options': ['In-store shopping'], 'He...                 NaN   \n272186  {'Highlights': ['Live performances'], 'Accessi...                 NaN   \n272187  {'Service options': ['Delivery', 'Takeout', 'D...                 NaN   \n272188                                               None                 NaN   \n\n                                         relative_results  \\\n0       [0x89c24449907718fb:0x31b554a0983f621d, 0x4065...   \n1       [0x89c25fc7a91c609f:0xb103d6a261373fd, 0x89c25...   \n2       [0x89c2598340fb6509:0xa996f3db49ba6e78, 0x89c2...   \n3                                                    None   \n4                                                    None   \n...                                                   ...   \n272184  [0x89c25a113a9d572d:0xeafa1762e467784d, 0x89c2...   \n272185  [0x89c25a18329fd4c5:0x7e00af90a9d87671, 0x89c2...   \n272186                                               None   \n272187  [0x89c27c80f2b9848d:0xd80855f95e82a220, 0x89c2...   \n272188                                               None   \n\n                                                      url  \n0       https://www.google.com/maps/place//data=!4m2!3...  \n1       https://www.google.com/maps/place//data=!4m2!3...  \n2       https://www.google.com/maps/place//data=!4m2!3...  \n3       https://www.google.com/maps/place//data=!4m2!3...  \n4       https://www.google.com/maps/place/Ledyard,+NY+...  \n...                                                   ...  \n272184  https://www.google.com/maps/place//data=!4m2!3...  \n272185  https://www.google.com/maps/place//data=!4m2!3...  \n272186  https://www.google.com/maps/place//data=!4m2!3...  \n272187  https://www.google.com/maps/place//data=!4m2!3...  \n272188  https://www.google.com/maps/place//data=!4m2!3...  \n\n[272189 rows x 15 columns]",
      "text/html": "<div>\n<style scoped>\n    .dataframe tbody tr th:only-of-type {\n        vertical-align: middle;\n    }\n\n    .dataframe tbody tr th {\n        vertical-align: top;\n    }\n\n    .dataframe thead th {\n        text-align: right;\n    }\n</style>\n<table border=\"1\" class=\"dataframe\">\n  <thead>\n    <tr style=\"text-align: right;\">\n      <th></th>\n      <th>name</th>\n      <th>address</th>\n      <th>gmap_id</th>\n      <th>description</th>\n      <th>latitude</th>\n      <th>longitude</th>\n      <th>category</th>\n      <th>avg_rating</th>\n      <th>num_of_reviews</th>\n      <th>price</th>\n      <th>hours</th>\n      <th>MISC</th>\n      <th>state</th>\n      <th>relative_results</th>\n      <th>url</th>\n    </tr>\n  </thead>\n  <tbody>\n    <tr>\n      <th>0</th>\n      <td>A-Top Insurance</td>\n      <td>A-Top Insurance, 1009 Brighton Beach Ave, Broo...</td>\n      <td>0x89c24469c758686b:0x641f5b84cb9bedfa</td>\n      <td>None</td>\n      <td>40.578254</td>\n      <td>-73.959127</td>\n      <td>[Insurance broker, Insurance agency]</td>\n      <td>2.0</td>\n      <td>4</td>\n      <td>None</td>\n      <td>[[Thursday, 10AM–6PM], [Friday, 10AM–6PM], [Sa...</td>\n      <td>None</td>\n      <td>Open ⋅ Closes 6PM</td>\n      <td>[0x89c24449907718fb:0x31b554a0983f621d, 0x4065...</td>\n      <td>https://www.google.com/maps/place//data=!4m2!3...</td>\n    </tr>\n    <tr>\n      <th>1</th>\n      <td>T-Mobile</td>\n      <td>T-Mobile, 3923 103rd St, Queens, NY 11368</td>\n      <td>0x89c25fc9494dce47:0x6d63c807b59a55</td>\n      <td>None</td>\n      <td>40.750146</td>\n      <td>-73.862536</td>\n      <td>[Cell phone store, Electronic parts supplier, ...</td>\n      <td>3.5</td>\n      <td>95</td>\n      <td>$$</td>\n      <td>[[Thursday, 10AM–8PM], [Friday, 10AM–8PM], [Sa...</td>\n      <td>{'Service options': ['In-store shopping', 'Del...</td>\n      <td>Open ⋅ Closes 8PM</td>\n      <td>[0x89c25fc7a91c609f:0xb103d6a261373fd, 0x89c25...</td>\n      <td>https://www.google.com/maps/place//data=!4m2!3...</td>\n    </tr>\n    <tr>\n      <th>2</th>\n      <td>Ace Hardware</td>\n      <td>Ace Hardware, 130 4th Ave, New York, NY 10003</td>\n      <td>0x89c259992463b6e1:0x4a601a43752541dd</td>\n      <td>Chain retailer stocking household tools, suppl...</td>\n      <td>40.733182</td>\n      <td>-73.990201</td>\n      <td>[Hardware store, Building materials store, Ele...</td>\n      <td>3.4</td>\n      <td>8</td>\n      <td>None</td>\n      <td>[[Thursday, 8AM–6:30PM], [Friday, 8AM–6:30PM],...</td>\n      <td>None</td>\n      <td>Permanently closed</td>\n      <td>[0x89c2598340fb6509:0xa996f3db49ba6e78, 0x89c2...</td>\n      <td>https://www.google.com/maps/place//data=!4m2!3...</td>\n    </tr>\n    <tr>\n      <th>3</th>\n      <td>Agricultural Consulting Services, Inc.</td>\n      <td>Agricultural Consulting Services, Inc., 370 Su...</td>\n      <td>0x89d14bf74320aea5:0x720261cd8960f8cd</td>\n      <td>None</td>\n      <td>43.054743</td>\n      <td>-77.649136</td>\n      <td>[Corporate office]</td>\n      <td>3.0</td>\n      <td>1</td>\n      <td>None</td>\n      <td>[[Thursday, 9AM–5PM], [Friday, 9AM–5PM], [Satu...</td>\n      <td>None</td>\n      <td>Open ⋅ Closes 5PM</td>\n      <td>None</td>\n      <td>https://www.google.com/maps/place//data=!4m2!3...</td>\n    </tr>\n    <tr>\n      <th>4</th>\n      <td>Long Point</td>\n      <td>Long Point, Ledyard, NY 13026</td>\n      <td>0x89d0bd8d2df8d10f:0x77a8f349f40492fa</td>\n      <td>None</td>\n      <td>42.715626</td>\n      <td>-76.710227</td>\n      <td>[Peninsula]</td>\n      <td>5.0</td>\n      <td>1</td>\n      <td>None</td>\n      <td>None</td>\n      <td>None</td>\n      <td>None</td>\n      <td>None</td>\n      <td>https://www.google.com/maps/place/Ledyard,+NY+...</td>\n    </tr>\n    <tr>\n      <th>...</th>\n      <td>...</td>\n      <td>...</td>\n      <td>...</td>\n      <td>...</td>\n      <td>...</td>\n      <td>...</td>\n      <td>...</td>\n      <td>...</td>\n      <td>...</td>\n      <td>...</td>\n      <td>...</td>\n      <td>...</td>\n      <td>...</td>\n      <td>...</td>\n      <td>...</td>\n    </tr>\n    <tr>\n      <th>272184</th>\n      <td>65 Market Place</td>\n      <td>65 Market Place, 65 Broadway, New York, NY 10006</td>\n      <td>0x89c25bdb104613e5:0xb5050c2be5ed435d</td>\n      <td>None</td>\n      <td>40.707176</td>\n      <td>-74.012409</td>\n      <td>[Buffet restaurant]</td>\n      <td>4.1</td>\n      <td>128</td>\n      <td>$$</td>\n      <td>[[Wednesday, 6AM–9PM], [Thursday, 6AM–9PM], [F...</td>\n      <td>{'Service options': ['Takeout', 'Dine-in'], 'H...</td>\n      <td>NaN</td>\n      <td>[0x89c25a113a9d572d:0xeafa1762e467784d, 0x89c2...</td>\n      <td>https://www.google.com/maps/place//data=!4m2!3...</td>\n    </tr>\n    <tr>\n      <th>272185</th>\n      <td>Anthropologie</td>\n      <td>Anthropologie, 195 Broadway, New York, NY 10007</td>\n      <td>0x89c25a1835535f49:0x4c91183c04ffd4f3</td>\n      <td>Chain selling boho-chic womenswear, shoes, acc...</td>\n      <td>40.710535</td>\n      <td>-74.009543</td>\n      <td>[Women's clothing store, Beauty supply store, ...</td>\n      <td>4.4</td>\n      <td>158</td>\n      <td>$$$</td>\n      <td>[[Wednesday, 10AM–6PM], [Thursday, 10AM–6PM], ...</td>\n      <td>{'Service options': ['In-store shopping'], 'He...</td>\n      <td>NaN</td>\n      <td>[0x89c25a18329fd4c5:0x7e00af90a9d87671, 0x89c2...</td>\n      <td>https://www.google.com/maps/place//data=!4m2!3...</td>\n    </tr>\n    <tr>\n      <th>272186</th>\n      <td>Resorts World Catskills</td>\n      <td>Resorts World Catskills, 888 Resorts World Dr,...</td>\n      <td>0x89dcb771077bae39:0x5356a2493ed42159</td>\n      <td>None</td>\n      <td>41.659053</td>\n      <td>-74.649042</td>\n      <td>[Casino, Hotel, Resort hotel]</td>\n      <td>3.8</td>\n      <td>4858</td>\n      <td>None</td>\n      <td>None</td>\n      <td>{'Highlights': ['Live performances'], 'Accessi...</td>\n      <td>NaN</td>\n      <td>None</td>\n      <td>https://www.google.com/maps/place//data=!4m2!3...</td>\n    </tr>\n    <tr>\n      <th>272187</th>\n      <td>Flaming Grill and Supreme Buffet</td>\n      <td>Flaming Grill and Supreme Buffet, 1773 Grand A...</td>\n      <td>0x89c27c873d368157:0x204c342943561b5f</td>\n      <td>Strip-mall eatery with an extensive buffet of ...</td>\n      <td>40.667538</td>\n      <td>-73.607521</td>\n      <td>[Seafood restaurant]</td>\n      <td>4.3</td>\n      <td>2964</td>\n      <td>$</td>\n      <td>[[Wednesday, 11AM–8:30PM], [Thursday, 11AM–8:3...</td>\n      <td>{'Service options': ['Delivery', 'Takeout', 'D...</td>\n      <td>NaN</td>\n      <td>[0x89c27c80f2b9848d:0xd80855f95e82a220, 0x89c2...</td>\n      <td>https://www.google.com/maps/place//data=!4m2!3...</td>\n    </tr>\n    <tr>\n      <th>272188</th>\n      <td>Honor's Haven Retreat &amp; Conference</td>\n      <td>Honor's Haven Retreat &amp; Conference, 1195 Arrow...</td>\n      <td>0x89dcdb488da77e51:0x4d6096d8783e8f2f</td>\n      <td>Lakeside 200-acre resort with casual rooms &amp; s...</td>\n      <td>41.700687</td>\n      <td>-74.400337</td>\n      <td>[Hotel]</td>\n      <td>4.0</td>\n      <td>668</td>\n      <td>None</td>\n      <td>None</td>\n      <td>None</td>\n      <td>NaN</td>\n      <td>None</td>\n      <td>https://www.google.com/maps/place//data=!4m2!3...</td>\n    </tr>\n  </tbody>\n</table>\n<p>272189 rows × 15 columns</p>\n</div>"
     },
     "execution_count": 26,
     "metadata": {},
     "output_type": "execute_result"
    }
   ],
   "source": [
    "metadata = pd.read_json(\"../data/meta-New_York.json.gz\", compression='gzip', lines=True)\n",
    "metadata"
   ],
   "metadata": {
    "collapsed": false,
    "ExecuteTime": {
     "end_time": "2023-07-27T23:30:08.937523Z",
     "start_time": "2023-07-27T23:30:00.097043Z"
    }
   }
  },
  {
   "cell_type": "code",
   "execution_count": null,
   "outputs": [],
   "source": [],
   "metadata": {
    "collapsed": false
   }
  }
 ],
 "metadata": {
  "kernelspec": {
   "display_name": "Python 3",
   "language": "python",
   "name": "python3"
  },
  "language_info": {
   "codemirror_mode": {
    "name": "ipython",
    "version": 2
   },
   "file_extension": ".py",
   "mimetype": "text/x-python",
   "name": "python",
   "nbconvert_exporter": "python",
   "pygments_lexer": "ipython2",
   "version": "2.7.6"
  }
 },
 "nbformat": 4,
 "nbformat_minor": 0
}
